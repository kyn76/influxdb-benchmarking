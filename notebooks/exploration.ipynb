{
 "cells": [
  {
   "cell_type": "code",
   "execution_count": 12,
   "metadata": {},
   "outputs": [],
   "source": [
    "import numpy as np, pandas as pd, matplotlib.pyplot as plt, seaborn as sns, featexp, time, datetime"
   ]
  },
  {
   "cell_type": "code",
   "execution_count": 18,
   "metadata": {},
   "outputs": [
    {
     "data": {
      "text/html": [
       "<div>\n",
       "<style scoped>\n",
       "    .dataframe tbody tr th:only-of-type {\n",
       "        vertical-align: middle;\n",
       "    }\n",
       "\n",
       "    .dataframe tbody tr th {\n",
       "        vertical-align: top;\n",
       "    }\n",
       "\n",
       "    .dataframe thead th {\n",
       "        text-align: right;\n",
       "    }\n",
       "</style>\n",
       "<table border=\"1\" class=\"dataframe\">\n",
       "  <thead>\n",
       "    <tr style=\"text-align: right;\">\n",
       "      <th></th>\n",
       "      <th>uid</th>\n",
       "      <th>date</th>\n",
       "      <th>id</th>\n",
       "      <th>nom</th>\n",
       "      <th>valeur</th>\n",
       "      <th>geo</th>\n",
       "      <th>ville</th>\n",
       "      <th>code_insee</th>\n",
       "    </tr>\n",
       "  </thead>\n",
       "  <tbody>\n",
       "    <tr>\n",
       "      <th>24286</th>\n",
       "      <td>20220415-230000614</td>\n",
       "      <td>2022-04-15T23:00:00+00:00</td>\n",
       "      <td>614</td>\n",
       "      <td>LEZENNES</td>\n",
       "      <td>0.0</td>\n",
       "      <td>50.61112897101116,3.105120994420723</td>\n",
       "      <td>Ronchin</td>\n",
       "      <td>59507.0</td>\n",
       "    </tr>\n",
       "    <tr>\n",
       "      <th>30185</th>\n",
       "      <td>20220415-230000606</td>\n",
       "      <td>2022-04-15T23:00:00+00:00</td>\n",
       "      <td>606</td>\n",
       "      <td>GRIMONPONT</td>\n",
       "      <td>0.0</td>\n",
       "      <td>50.69231298987998,3.249528645510681</td>\n",
       "      <td>Wattrelos</td>\n",
       "      <td>59650.0</td>\n",
       "    </tr>\n",
       "    <tr>\n",
       "      <th>30186</th>\n",
       "      <td>20220415-230000617</td>\n",
       "      <td>2022-04-15T23:00:00+00:00</td>\n",
       "      <td>617</td>\n",
       "      <td>EMMERIN</td>\n",
       "      <td>0.0</td>\n",
       "      <td>50.58675727008884,3.0076727886082564</td>\n",
       "      <td>Emmerin</td>\n",
       "      <td>59193.0</td>\n",
       "    </tr>\n",
       "    <tr>\n",
       "      <th>30187</th>\n",
       "      <td>20220415-230000601</td>\n",
       "      <td>2022-04-15T23:00:00+00:00</td>\n",
       "      <td>601</td>\n",
       "      <td>NEUVILLE</td>\n",
       "      <td>0.0</td>\n",
       "      <td>50.75581333497077,3.1412037363396936</td>\n",
       "      <td>Neuville-en-Ferrain</td>\n",
       "      <td>59426.0</td>\n",
       "    </tr>\n",
       "    <tr>\n",
       "      <th>30188</th>\n",
       "      <td>20220415-230000604</td>\n",
       "      <td>2022-04-15T23:00:00+00:00</td>\n",
       "      <td>604</td>\n",
       "      <td>QUESNOY</td>\n",
       "      <td>0.0</td>\n",
       "      <td>50.71278844961187,3.0053606482818735</td>\n",
       "      <td>Quesnoy-sur-Deûle</td>\n",
       "      <td>59482.0</td>\n",
       "    </tr>\n",
       "  </tbody>\n",
       "</table>\n",
       "</div>"
      ],
      "text/plain": [
       "                      uid                       date   id         nom  valeur  \\\n",
       "24286  20220415-230000614  2022-04-15T23:00:00+00:00  614    LEZENNES     0.0   \n",
       "30185  20220415-230000606  2022-04-15T23:00:00+00:00  606  GRIMONPONT     0.0   \n",
       "30186  20220415-230000617  2022-04-15T23:00:00+00:00  617     EMMERIN     0.0   \n",
       "30187  20220415-230000601  2022-04-15T23:00:00+00:00  601    NEUVILLE     0.0   \n",
       "30188  20220415-230000604  2022-04-15T23:00:00+00:00  604     QUESNOY     0.0   \n",
       "\n",
       "                                        geo                ville  code_insee  \n",
       "24286   50.61112897101116,3.105120994420723              Ronchin     59507.0  \n",
       "30185   50.69231298987998,3.249528645510681            Wattrelos     59650.0  \n",
       "30186  50.58675727008884,3.0076727886082564              Emmerin     59193.0  \n",
       "30187  50.75581333497077,3.1412037363396936  Neuville-en-Ferrain     59426.0  \n",
       "30188  50.71278844961187,3.0053606482818735    Quesnoy-sur-Deûle     59482.0  "
      ]
     },
     "execution_count": 18,
     "metadata": {},
     "output_type": "execute_result"
    }
   ],
   "source": [
    "df_raw = pd.read_csv('../data/pluviometrie.csv', delimiter=\";\")\n",
    "df_initial = df_raw.copy()\n",
    "df_initial.sort_values(by=[\"date\"], inplace=True)\n",
    "df_initial.head()"
   ]
  },
  {
   "cell_type": "markdown",
   "metadata": {},
   "source": [
    "# I - Analyse rapide du dataset et compréhension pour de potentiels recalculs\n",
    "La colonne 'uid' semble clairement être une concaténation de la date et de l'id, on va donc s'en séparer pour le moment.  \n",
    "Concernant la localisation geographique, on ne gardera que la ville s'il n'y a qu'un pluviomètre par ville dans tous les cas, cela retirera la colonne 'code_insee', 'nom' et 'geo'.  "
   ]
  },
  {
   "cell_type": "code",
   "execution_count": 19,
   "metadata": {},
   "outputs": [
    {
     "name": "stdout",
     "output_type": "stream",
     "text": [
      "Il y a 21 noms, 21 ids, 18 villes et 21 repères géographiques.\n"
     ]
    }
   ],
   "source": [
    "if 'uid' in df_initial.columns:\n",
    "    df_initial = df_initial.drop('uid', axis=1)\n",
    "print(f'Il y a {len(df_initial[\"nom\"].value_counts())} noms, {len(df_initial[\"id\"].value_counts())} ids, {len(df_initial[\"ville\"].value_counts())} villes et {len(df_initial[\"geo\"].value_counts())} repères géographiques.')"
   ]
  },
  {
   "cell_type": "markdown",
   "metadata": {},
   "source": [
    "Pour simplifier l'utilisation future, on va garder la colonne \"nom\" et la colonne \"geo\" afin de pouvoir matcher un nom de ville où un emplacement géographique directement. "
   ]
  },
  {
   "cell_type": "code",
   "execution_count": 20,
   "metadata": {
    "scrolled": false
   },
   "outputs": [
    {
     "data": {
      "text/html": [
       "<div>\n",
       "<style scoped>\n",
       "    .dataframe tbody tr th:only-of-type {\n",
       "        vertical-align: middle;\n",
       "    }\n",
       "\n",
       "    .dataframe tbody tr th {\n",
       "        vertical-align: top;\n",
       "    }\n",
       "\n",
       "    .dataframe thead th {\n",
       "        text-align: right;\n",
       "    }\n",
       "</style>\n",
       "<table border=\"1\" class=\"dataframe\">\n",
       "  <thead>\n",
       "    <tr style=\"text-align: right;\">\n",
       "      <th></th>\n",
       "      <th>date</th>\n",
       "      <th>nom</th>\n",
       "      <th>valeur</th>\n",
       "      <th>geo</th>\n",
       "    </tr>\n",
       "  </thead>\n",
       "  <tbody>\n",
       "    <tr>\n",
       "      <th>24286</th>\n",
       "      <td>2022-04-15T23:00:00+00:00</td>\n",
       "      <td>LEZENNES</td>\n",
       "      <td>0.0</td>\n",
       "      <td>50.61112897101116,3.105120994420723</td>\n",
       "    </tr>\n",
       "    <tr>\n",
       "      <th>30185</th>\n",
       "      <td>2022-04-15T23:00:00+00:00</td>\n",
       "      <td>GRIMONPONT</td>\n",
       "      <td>0.0</td>\n",
       "      <td>50.69231298987998,3.249528645510681</td>\n",
       "    </tr>\n",
       "    <tr>\n",
       "      <th>30186</th>\n",
       "      <td>2022-04-15T23:00:00+00:00</td>\n",
       "      <td>EMMERIN</td>\n",
       "      <td>0.0</td>\n",
       "      <td>50.58675727008884,3.0076727886082564</td>\n",
       "    </tr>\n",
       "    <tr>\n",
       "      <th>30187</th>\n",
       "      <td>2022-04-15T23:00:00+00:00</td>\n",
       "      <td>NEUVILLE</td>\n",
       "      <td>0.0</td>\n",
       "      <td>50.75581333497077,3.1412037363396936</td>\n",
       "    </tr>\n",
       "    <tr>\n",
       "      <th>30188</th>\n",
       "      <td>2022-04-15T23:00:00+00:00</td>\n",
       "      <td>QUESNOY</td>\n",
       "      <td>0.0</td>\n",
       "      <td>50.71278844961187,3.0053606482818735</td>\n",
       "    </tr>\n",
       "  </tbody>\n",
       "</table>\n",
       "</div>"
      ],
      "text/plain": [
       "                            date         nom  valeur  \\\n",
       "24286  2022-04-15T23:00:00+00:00    LEZENNES     0.0   \n",
       "30185  2022-04-15T23:00:00+00:00  GRIMONPONT     0.0   \n",
       "30186  2022-04-15T23:00:00+00:00     EMMERIN     0.0   \n",
       "30187  2022-04-15T23:00:00+00:00    NEUVILLE     0.0   \n",
       "30188  2022-04-15T23:00:00+00:00     QUESNOY     0.0   \n",
       "\n",
       "                                        geo  \n",
       "24286   50.61112897101116,3.105120994420723  \n",
       "30185   50.69231298987998,3.249528645510681  \n",
       "30186  50.58675727008884,3.0076727886082564  \n",
       "30187  50.75581333497077,3.1412037363396936  \n",
       "30188  50.71278844961187,3.0053606482818735  "
      ]
     },
     "execution_count": 20,
     "metadata": {},
     "output_type": "execute_result"
    }
   ],
   "source": [
    "df_initial = df_initial.drop(['code_insee', 'ville', 'id'], axis=1)\n",
    "df_initial.head()"
   ]
  },
  {
   "cell_type": "code",
   "execution_count": 21,
   "metadata": {},
   "outputs": [
    {
     "data": {
      "text/html": [
       "<div>\n",
       "<style scoped>\n",
       "    .dataframe tbody tr th:only-of-type {\n",
       "        vertical-align: middle;\n",
       "    }\n",
       "\n",
       "    .dataframe tbody tr th {\n",
       "        vertical-align: top;\n",
       "    }\n",
       "\n",
       "    .dataframe thead th {\n",
       "        text-align: right;\n",
       "    }\n",
       "</style>\n",
       "<table border=\"1\" class=\"dataframe\">\n",
       "  <thead>\n",
       "    <tr style=\"text-align: right;\">\n",
       "      <th></th>\n",
       "      <th>date</th>\n",
       "      <th>nom</th>\n",
       "      <th>valeur</th>\n",
       "      <th>geo</th>\n",
       "    </tr>\n",
       "  </thead>\n",
       "  <tbody>\n",
       "    <tr>\n",
       "      <th>24286</th>\n",
       "      <td>1.650056e+09</td>\n",
       "      <td>LEZENNES</td>\n",
       "      <td>0.0</td>\n",
       "      <td>50.61112897101116,3.105120994420723</td>\n",
       "    </tr>\n",
       "    <tr>\n",
       "      <th>30185</th>\n",
       "      <td>1.650056e+09</td>\n",
       "      <td>GRIMONPONT</td>\n",
       "      <td>0.0</td>\n",
       "      <td>50.69231298987998,3.249528645510681</td>\n",
       "    </tr>\n",
       "    <tr>\n",
       "      <th>30186</th>\n",
       "      <td>1.650056e+09</td>\n",
       "      <td>EMMERIN</td>\n",
       "      <td>0.0</td>\n",
       "      <td>50.58675727008884,3.0076727886082564</td>\n",
       "    </tr>\n",
       "    <tr>\n",
       "      <th>30187</th>\n",
       "      <td>1.650056e+09</td>\n",
       "      <td>NEUVILLE</td>\n",
       "      <td>0.0</td>\n",
       "      <td>50.75581333497077,3.1412037363396936</td>\n",
       "    </tr>\n",
       "    <tr>\n",
       "      <th>30188</th>\n",
       "      <td>1.650056e+09</td>\n",
       "      <td>QUESNOY</td>\n",
       "      <td>0.0</td>\n",
       "      <td>50.71278844961187,3.0053606482818735</td>\n",
       "    </tr>\n",
       "  </tbody>\n",
       "</table>\n",
       "</div>"
      ],
      "text/plain": [
       "               date         nom  valeur                                   geo\n",
       "24286  1.650056e+09    LEZENNES     0.0   50.61112897101116,3.105120994420723\n",
       "30185  1.650056e+09  GRIMONPONT     0.0   50.69231298987998,3.249528645510681\n",
       "30186  1.650056e+09     EMMERIN     0.0  50.58675727008884,3.0076727886082564\n",
       "30187  1.650056e+09    NEUVILLE     0.0  50.75581333497077,3.1412037363396936\n",
       "30188  1.650056e+09     QUESNOY     0.0  50.71278844961187,3.0053606482818735"
      ]
     },
     "execution_count": 21,
     "metadata": {},
     "output_type": "execute_result"
    }
   ],
   "source": [
    "def conv():\n",
    "    return lambda x: time.mktime(datetime.datetime.strptime(x, \"%Y-%m-%dT%H:%M:%S+00:00\").timetuple()) if '+00' in x else time.mktime(datetime.datetime.strptime(x, \"%Y-%m-%dT%H:%M:%S+01:00\").timetuple())\n",
    "df_initial[\"date\"] = df_initial[\"date\"].apply(conv())\n",
    "df_initial.head()"
   ]
  },
  {
   "cell_type": "code",
   "execution_count": 29,
   "metadata": {},
   "outputs": [
    {
     "name": "stderr",
     "output_type": "stream",
     "text": [
      "/tmp/ipykernel_4757/3790146070.py:2: SettingWithCopyWarning: \n",
      "A value is trying to be set on a copy of a slice from a DataFrame\n",
      "\n",
      "See the caveats in the documentation: https://pandas.pydata.org/pandas-docs/stable/user_guide/indexing.html#returning-a-view-versus-a-copy\n",
      "  df_lille.sort_values(by=[\"date\"], inplace=True)\n"
     ]
    },
    {
     "data": {
      "text/html": [
       "<div>\n",
       "<style scoped>\n",
       "    .dataframe tbody tr th:only-of-type {\n",
       "        vertical-align: middle;\n",
       "    }\n",
       "\n",
       "    .dataframe tbody tr th {\n",
       "        vertical-align: top;\n",
       "    }\n",
       "\n",
       "    .dataframe thead th {\n",
       "        text-align: right;\n",
       "    }\n",
       "</style>\n",
       "<table border=\"1\" class=\"dataframe\">\n",
       "  <thead>\n",
       "    <tr style=\"text-align: right;\">\n",
       "      <th></th>\n",
       "      <th>date</th>\n",
       "      <th>nom</th>\n",
       "      <th>valeur</th>\n",
       "      <th>geo</th>\n",
       "    </tr>\n",
       "  </thead>\n",
       "  <tbody>\n",
       "    <tr>\n",
       "      <th>32227</th>\n",
       "      <td>1.650056e+09</td>\n",
       "      <td>LILLE</td>\n",
       "      <td>0.0</td>\n",
       "      <td>50.647267167546616,3.0646899495752478</td>\n",
       "    </tr>\n",
       "    <tr>\n",
       "      <th>80544</th>\n",
       "      <td>1.650060e+09</td>\n",
       "      <td>LILLE</td>\n",
       "      <td>0.0</td>\n",
       "      <td>50.647267167546616,3.0646899495752478</td>\n",
       "    </tr>\n",
       "    <tr>\n",
       "      <th>30191</th>\n",
       "      <td>1.650064e+09</td>\n",
       "      <td>LILLE</td>\n",
       "      <td>0.0</td>\n",
       "      <td>50.647267167546616,3.0646899495752478</td>\n",
       "    </tr>\n",
       "    <tr>\n",
       "      <th>24295</th>\n",
       "      <td>1.650067e+09</td>\n",
       "      <td>LILLE</td>\n",
       "      <td>0.0</td>\n",
       "      <td>50.647267167546616,3.0646899495752478</td>\n",
       "    </tr>\n",
       "    <tr>\n",
       "      <th>30200</th>\n",
       "      <td>1.650071e+09</td>\n",
       "      <td>LILLE</td>\n",
       "      <td>0.0</td>\n",
       "      <td>50.647267167546616,3.0646899495752478</td>\n",
       "    </tr>\n",
       "  </tbody>\n",
       "</table>\n",
       "</div>"
      ],
      "text/plain": [
       "               date    nom  valeur                                    geo\n",
       "32227  1.650056e+09  LILLE     0.0  50.647267167546616,3.0646899495752478\n",
       "80544  1.650060e+09  LILLE     0.0  50.647267167546616,3.0646899495752478\n",
       "30191  1.650064e+09  LILLE     0.0  50.647267167546616,3.0646899495752478\n",
       "24295  1.650067e+09  LILLE     0.0  50.647267167546616,3.0646899495752478\n",
       "30200  1.650071e+09  LILLE     0.0  50.647267167546616,3.0646899495752478"
      ]
     },
     "execution_count": 29,
     "metadata": {},
     "output_type": "execute_result"
    }
   ],
   "source": [
    "df_lille = df_initial[df_initial.nom == \"LILLE\"]\n",
    "df_lille.sort_values(by=[\"date\"], inplace=True)\n",
    "df_lille.head()"
   ]
  },
  {
   "cell_type": "code",
   "execution_count": 32,
   "metadata": {},
   "outputs": [
    {
     "data": {
      "text/plain": [
       "<matplotlib.collections.PathCollection at 0x7ff0027f9600>"
      ]
     },
     "execution_count": 32,
     "metadata": {},
     "output_type": "execute_result"
    },
    {
     "data": {
      "image/png": "[encoded data removed]",
      "text/plain": [
       "<Figure size 432x288 with 1 Axes>"
      ]
     },
     "metadata": {
      "needs_background": "light"
     },
     "output_type": "display_data"
    }
   ],
   "source": [
    "plt.scatter([x for x in range(df_lille.date.shape[0])],df_lille.date)"
   ]
  },
  {
   "cell_type": "code",
   "execution_count": 36,
   "metadata": {},
   "outputs": [
    {
     "name": "stdout",
     "output_type": "stream",
     "text": [
      "(5798,) (5798,)\n",
      "L'écart moyen entre 2 enregistrements est en moyenne de 3130.60s\n"
     ]
    }
   ],
   "source": [
    "timestamps = df_lille[\"date\"].to_numpy()\n",
    "ecarts_timestamps = (timestamps[:-1] - timestamps[1:])\n",
    "timestamps = timestamps[:-1]\n",
    "timestamps = timestamps[ecarts_timestamps < 0]\n",
    "ecarts_timestamps = ecarts_timestamps[ecarts_timestamps < 0]\n",
    "\n",
    "print(ecarts_timestamps.shape, timestamps.shape)\n",
    "\n",
    "ecart_moyen = np.mean(ecarts_timestamps)\n",
    "print(f\"L'écart moyen entre 2 enregistrements est en moyenne de {-1*ecart_moyen:.2f}s\")"
   ]
  },
  {
   "cell_type": "code",
   "execution_count": 37,
   "metadata": {},
   "outputs": [],
   "source": [
    "pas_de_temps_max = 3600"
   ]
  },
  {
   "cell_type": "code",
   "execution_count": 38,
   "metadata": {},
   "outputs": [
    {
     "name": "stdout",
     "output_type": "stream",
     "text": [
      "(7352,)\n"
     ]
    },
    {
     "data": {
      "text/plain": [
       "[<matplotlib.lines.Line2D at 0x7ff0026ab2e0>]"
      ]
     },
     "execution_count": 38,
     "metadata": {},
     "output_type": "execute_result"
    },
    {
     "data": {
      "image/png": "[encoded data removed]",
      "text/plain": [
       "<Figure size 432x288 with 1 Axes>"
      ]
     },
     "metadata": {
      "needs_background": "light"
     },
     "output_type": "display_data"
    }
   ],
   "source": [
    "nb_timestamps_initial = timestamps.shape[0]\n",
    "timestamps_smoothed = []\n",
    "offset = 0\n",
    "for timestamp in range(nb_timestamps_initial - 1):\n",
    "    timestamps_smoothed.append(timestamps[timestamp])\n",
    "    ecart_timestamps = ecarts_timestamps[timestamp]\n",
    "    nb_rajout = 1\n",
    "    while timestamps_smoothed[-1] - timestamps[timestamp + 1] < (-1)*3600:\n",
    "        offset += 1\n",
    "        timestamps_smoothed.append(timestamps[timestamp] - nb_rajout*np.floor(ecart_moyen))\n",
    "        nb_rajout += 1\n",
    "timestamps_smoothed = np.array(timestamps_smoothed)\n",
    "ecarts_timestamps_smoothed = (timestamps_smoothed[:-1] - timestamps_smoothed[1:])\n",
    "print(ecarts_timestamps_smoothed.shape)\n",
    "plt.plot(timestamps_smoothed)"
   ]
  },
  {
   "cell_type": "code",
   "execution_count": 41,
   "metadata": {},
   "outputs": [
    {
     "name": "stdout",
     "output_type": "stream",
     "text": [
      "(7352,) (7352,)\n",
      "L'écart moyen entre 2 enregistrements est en moyenne de 2467.90s\n"
     ]
    },
    {
     "data": {
      "text/plain": [
       "array([], dtype=float64)"
      ]
     },
     "execution_count": 41,
     "metadata": {},
     "output_type": "execute_result"
    }
   ],
   "source": [
    "timestamps = timestamps_smoothed\n",
    "ecarts_timestamps = (timestamps[:-1] - timestamps[1:])\n",
    "timestamps = timestamps[:-1]\n",
    "timestamps = timestamps[ecarts_timestamps < 0]\n",
    "ecarts_timestamps = ecarts_timestamps[ecarts_timestamps < 0]\n",
    "\n",
    "print(ecarts_timestamps.shape, timestamps.shape)\n",
    "\n",
    "ecart_moyen = np.mean(ecarts_timestamps)\n",
    "print(f\"L'écart moyen entre 2 enregistrements est en moyenne de {-1*ecart_moyen:.2f}s\")"
   ]
  },
  {
   "cell_type": "code",
   "execution_count": 72,
   "metadata": {},
   "outputs": [],
   "source": [
    "values = []\n",
    "for timestamp in range(len(timestamps)):\n",
    "    if df_lille[df_lille.date == timestamps[timestamp]].shape[0] == 1:\n",
    "        values.append(df_lille[df_lille.date == timestamps[timestamp]].valeur.item())\n",
    "    else:\n",
    "        intervalle = timestamps[timestamp+1] - timestamps[timestamp-1]\n",
    "        #recuperation valeur instant précéddent\n",
    "        if df_lille[df_lille.date == timestamps[timestamp-1]].shape[0] == 1:\n",
    "            value_avant = df_lille[df_lille.date == timestamps[timestamp - 1]].valeur.item()\n",
    "        else:\n",
    "            value_avant = values[-1]\n",
    "        ponderation_avant = 1 - ((timestamps[timestamp] - timestamps[timestamp - 1])/intervalle)\n",
    "        \n",
    "        #récupération valeur instant suivant\n",
    "        if df_lille[df_lille.date == timestamps[timestamp+1]].shape[0] == 1:\n",
    "            value_apres = df_lille[df_lille.date == timestamps[timestamp + 1]].valeur.item()\n",
    "        else:\n",
    "            value_apres = values[-1]\n",
    "\n",
    "        ponderation_apres = 1 - ((timestamps[timestamp+1] - timestamps[timestamp])/intervalle)\n",
    "        \n",
    "        value_ponderee = ponderation_avant * value_avant + ponderation_apres * value_apres\n",
    "        values.append(value_ponderee)"
   ]
  },
  {
   "cell_type": "code",
   "execution_count": 76,
   "metadata": {
    "scrolled": false
   },
   "outputs": [
    {
     "data": {
      "text/plain": [
       "[<matplotlib.lines.Line2D at 0x7ff0028e3160>]"
      ]
     },
     "execution_count": 76,
     "metadata": {},
     "output_type": "execute_result"
    },
    {
     "data": {
      "image/png": "[encoded data removed]",
      "text/plain": [
       "<Figure size 864x576 with 1 Axes>"
      ]
     },
     "metadata": {
      "needs_background": "light"
     },
     "output_type": "display_data"
    }
   ],
   "source": [
    "plt.figure(figsize=(12,8))\n",
    "plt.plot(timestamps[4700:4800], values[4700:4800])"
   ]
  },
  {
   "cell_type": "code",
   "execution_count": 85,
   "metadata": {},
   "outputs": [],
   "source": [
    "timestamps_train = np.array(timestamps[:4500]).reshape(-1,1)\n",
    "timestamps_test = np.array(timestamps[4500:]).reshape(-1,1)\n",
    "values_train = np.array(values[:4500]).reshape(-1,1)\n",
    "values_test = np.array(values[4500:]).reshape(-1,1)"
   ]
  },
  {
   "cell_type": "code",
   "execution_count": 101,
   "metadata": {},
   "outputs": [
    {
     "name": "stderr",
     "output_type": "stream",
     "text": [
      "/home/fragdata/.local/lib/python3.10/site-packages/xgboost/core.py:568: FutureWarning: Pass `evals` as keyword args.  Passing these as positional arguments will be considered as error in future releases.\n",
      "  warnings.warn(\n"
     ]
    },
    {
     "name": "stdout",
     "output_type": "stream",
     "text": [
      "2.03\n"
     ]
    },
    {
     "data": {
      "image/png": "[encoded data removed]",
      "text/plain": [
       "<Figure size 432x288 with 1 Axes>"
      ]
     },
     "metadata": {
      "needs_background": "light"
     },
     "output_type": "display_data"
    }
   ],
   "source": [
    "import xgboost as xgb\n",
    "scores = []\n",
    "for eta in np.linspace(0.01, 100, 100):\n",
    "    param = {'eta': eta, 'objective': 'reg:squaredlogerror', 'predictor': 'gpu_predictor'}\n",
    "    param['nthread'] = 16\n",
    "    param['eval_metric'] = 'mae'\n",
    "    num_round = 10\n",
    "    preds = []\n",
    "    dtrain = xgb.DMatrix(timestamps_train, label=values_train)\n",
    "    dtest = xgb.DMatrix(timestamps_test, label=values_test)\n",
    "    evallist = [(dtrain, 'train')]\n",
    "    bst = xgb.train(param, dtrain, num_round, evallist, verbose_eval=0)\n",
    "    scores.append(bst.get_score()['f0'])\n",
    "    \n",
    "plt.plot(np.linspace(0.01, 100, 100), scores)\n",
    "print(np.linspace(0.01, 100, 100)[np.argmin(scores)])"
   ]
  },
  {
   "cell_type": "code",
   "execution_count": 102,
   "metadata": {},
   "outputs": [
    {
     "name": "stderr",
     "output_type": "stream",
     "text": [
      "/home/fragdata/.local/lib/python3.10/site-packages/xgboost/core.py:568: FutureWarning: Pass `evals` as keyword args.  Passing these as positional arguments will be considered as error in future releases.\n",
      "  warnings.warn(\n"
     ]
    },
    {
     "name": "stdout",
     "output_type": "stream",
     "text": [
      "2.0606060606060606\n"
     ]
    },
    {
     "data": {
      "image/png": "[encoded data removed]",
      "text/plain": [
       "<Figure size 432x288 with 1 Axes>"
      ]
     },
     "metadata": {
      "needs_background": "light"
     },
     "output_type": "display_data"
    }
   ],
   "source": [
    "import xgboost as xgb\n",
    "scores = []\n",
    "intervalle = np.linspace(0, 3, 100)\n",
    "for eta in intervalle:\n",
    "    param = {'eta': eta, 'objective': 'reg:squaredlogerror', 'predictor': 'gpu_predictor'}\n",
    "    param['nthread'] = 16\n",
    "    param['eval_metric'] = 'mae'\n",
    "    num_round = 10\n",
    "    preds = []\n",
    "    dtrain = xgb.DMatrix(timestamps_train, label=values_train)\n",
    "    dtest = xgb.DMatrix(timestamps_test, label=values_test)\n",
    "    evallist = [(dtrain, 'train')]\n",
    "    bst = xgb.train(param, dtrain, num_round, evallist, verbose_eval=0)\n",
    "    scores.append(bst.get_score()['f0'])\n",
    "    \n",
    "plt.plot(intervalle, scores)\n",
    "print(intervalle[np.argmin(scores)])"
   ]
  },
  {
   "cell_type": "code",
   "execution_count": 103,
   "metadata": {},
   "outputs": [
    {
     "name": "stderr",
     "output_type": "stream",
     "text": [
      "/home/fragdata/.local/lib/python3.10/site-packages/xgboost/core.py:568: FutureWarning: Pass `evals` as keyword args.  Passing these as positional arguments will be considered as error in future releases.\n",
      "  warnings.warn(\n"
     ]
    }
   ],
   "source": [
    "import xgboost as xgb\n",
    "param = {'eta': 2.06, 'objective': 'reg:squaredlogerror', 'predictor': 'gpu_predictor'}\n",
    "param['nthread'] = 16\n",
    "param['eval_metric'] = 'mae'\n",
    "num_round = 10\n",
    "preds = []\n",
    "dtrain = xgb.DMatrix(timestamps_train, label=values_train)\n",
    "dtest = xgb.DMatrix(timestamps_test, label=values_test)\n",
    "evallist = [(dtrain, 'train')]\n",
    "bst = xgb.train(param, dtrain, num_round, evallist, verbose_eval=0)\n",
    "ypred = bst.predict(dtest)"
   ]
  },
  {
   "cell_type": "code",
   "execution_count": 104,
   "metadata": {},
   "outputs": [
    {
     "data": {
      "image/png": "[encoded data removed]",
      "text/plain": [
       "<Figure size 1080x432 with 2 Axes>"
      ]
     },
     "metadata": {
      "needs_background": "light"
     },
     "output_type": "display_data"
    }
   ],
   "source": [
    "plt.figure(figsize=(15,6))\n",
    "_ = plt.subplot(1,2,1)\n",
    "_ = plt.plot(timestamps,values, label='Valeurs observées')\n",
    "_ = plt.title(\"Pluviométrie par heure à Lille\")\n",
    "_ = plt.ylabel(\"Pluviométrie\")\n",
    "_ = plt.xlabel(\"Timestamp\")\n",
    "_ = plt.legend()\n",
    "_ = plt.subplot(1,2,2)\n",
    "_ = plt.plot(timestamps_test, ypred, c='r', label='Valeurs prédites')\n",
    "_ = plt.title(\"Forecasting des pluviométries par heure à Lille\")\n",
    "_ = plt.ylabel(\"Pluviométrie\")\n",
    "_ = plt.xlabel(\"Timestamp\")\n",
    "_ = plt.legend()"
   ]
  },
  {
   "cell_type": "code",
   "execution_count": 115,
   "metadata": {},
   "outputs": [],
   "source": [
    "df_lille.index = pd.to_datetime(df_lille['date'])"
   ]
  },
  {
   "cell_type": "code",
   "execution_count": 127,
   "metadata": {},
   "outputs": [
    {
     "data": {
      "text/plain": [
       "<Figure size 1080x576 with 0 Axes>"
      ]
     },
     "metadata": {},
     "output_type": "display_data"
    },
    {
     "data": {
      "image/png": "[encoded data removed]",
      "text/plain": [
       "<Figure size 432x288 with 4 Axes>"
      ]
     },
     "metadata": {
      "needs_background": "light"
     },
     "output_type": "display_data"
    }
   ],
   "source": [
    "from statsmodels.tsa.seasonal import seasonal_decompose\n",
    "import statsmodels.api as sm\n",
    "plt.figure(figsize=(15,8))\n",
    "decompose_data = seasonal_decompose(df_lille.valeur, period=600, model=\"additive\")\n",
    "decompose_data.plot()\n",
    "plt.show()"
   ]
  },
  {
   "cell_type": "code",
   "execution_count": null,
   "metadata": {
    "scrolled": false
   },
   "outputs": [
    {
     "name": "stdout",
     "output_type": "stream",
     "text": [
      "RUNNING THE L-BFGS-B CODE\n",
      "\n",
      "           * * *\n",
      "\n",
      "Machine precision = 2.220D-16\n",
      " N =            1     M =           10\n",
      " This problem is unconstrained.\n",
      "\n",
      "At X0         0 variables are exactly at the bounds\n",
      "\n",
      "At iterate    0    f= -1.37767D+00    |proj g|=  2.68523D-03\n",
      "\n",
      "           * * *\n",
      "\n",
      "Tit   = total number of iterations\n",
      "Tnf   = total number of function evaluations\n",
      "Tnint = total number of segments explored during Cauchy searches\n",
      "Skip  = number of BFGS updates skipped\n",
      "Nact  = number of active bounds at final generalized Cauchy point\n",
      "Projg = norm of the final projected gradient\n",
      "F     = final function value\n",
      "\n",
      "           * * *\n",
      "\n",
      "   N    Tit     Tnf  Tnint  Skip  Nact     Projg        F\n",
      "    1      1     18      1     0     0   2.685D-03  -1.378D+00\n",
      "  F =  -1.3776667145735715     \n",
      "\n",
      "CONVERGENCE: REL_REDUCTION_OF_F_<=_FACTR*EPSMCH             \n",
      "\n",
      " Warning:  more than 10 function and gradient\n",
      "   evaluations in the last line search.  Termination\n",
      "   may possibly be caused by a bad search direction.\n"
     ]
    },
    {
     "name": "stderr",
     "output_type": "stream",
     "text": [
      "/home/fragdata/.local/lib/python3.10/site-packages/statsmodels/tsa/base/tsa_model.py:471: ValueWarning: A date index has been provided, but it has no associated frequency information and so will be ignored when e.g. forecasting.\n",
      "  self._init_dates(dates, freq)\n",
      "/home/fragdata/.local/lib/python3.10/site-packages/statsmodels/tsa/base/tsa_model.py:471: ValueWarning: A date index has been provided, but it has no associated frequency information and so will be ignored when e.g. forecasting.\n",
      "  self._init_dates(dates, freq)\n",
      "/tmp/ipykernel_4757/3055876277.py:8: SettingWithCopyWarning: \n",
      "A value is trying to be set on a copy of a slice from a DataFrame.\n",
      "Try using .loc[row_indexer,col_indexer] = value instead\n",
      "\n",
      "See the caveats in the documentation: https://pandas.pydata.org/pandas-docs/stable/user_guide/indexing.html#returning-a-view-versus-a-copy\n",
      "  df_lille['forecast']=results.predict(start=0,end=5000,dynamic=True)\n"
     ]
    },
    {
     "data": {
      "image/png": "[encoded data removed]",
      "text/plain": [
       "<Figure size 720x576 with 1 Axes>"
      ]
     },
     "metadata": {
      "needs_background": "light"
     },
     "output_type": "display_data"
    },
    {
     "name": "stderr",
     "output_type": "stream",
     "text": [
      "/home/fragdata/.local/lib/python3.10/site-packages/statsmodels/tsa/base/tsa_model.py:471: ValueWarning: A date index has been provided, but it has no associated frequency information and so will be ignored when e.g. forecasting.\n",
      "  self._init_dates(dates, freq)\n",
      "/home/fragdata/.local/lib/python3.10/site-packages/statsmodels/tsa/base/tsa_model.py:471: ValueWarning: A date index has been provided, but it has no associated frequency information and so will be ignored when e.g. forecasting.\n",
      "  self._init_dates(dates, freq)\n"
     ]
    },
    {
     "name": "stdout",
     "output_type": "stream",
     "text": [
      "RUNNING THE L-BFGS-B CODE\n",
      "\n",
      "           * * *\n",
      "\n",
      "Machine precision = 2.220D-16\n",
      " N =            3     M =           10\n",
      " This problem is unconstrained.\n",
      "\n",
      "At X0         0 variables are exactly at the bounds\n",
      "\n",
      "At iterate    0    f= -1.67107D+00    |proj g|=  9.18137D+00\n",
      "\n",
      "At iterate    5    f= -1.79673D+00    |proj g|=  1.21779D+00\n",
      "\n",
      "At iterate   10    f= -1.82682D+00    |proj g|=  1.05849D+00\n",
      "\n",
      "At iterate   15    f= -1.82724D+00    |proj g|=  1.22074D-02\n",
      "\n",
      "At iterate   20    f= -1.82729D+00    |proj g|=  7.13102D-02\n",
      "\n",
      "           * * *\n",
      "\n",
      "Tit   = total number of iterations\n",
      "Tnf   = total number of function evaluations\n",
      "Tnint = total number of segments explored during Cauchy searches\n",
      "Skip  = number of BFGS updates skipped\n",
      "Nact  = number of active bounds at final generalized Cauchy point\n",
      "Projg = norm of the final projected gradient\n",
      "F     = final function value\n",
      "\n",
      "           * * *\n",
      "\n",
      "   N    Tit     Tnf  Tnint  Skip  Nact     Projg        F\n",
      "    3     24     40      1     0     0   2.657D-03  -1.827D+00\n",
      "  F =  -1.8273001899051435     \n",
      "\n",
      "CONVERGENCE: REL_REDUCTION_OF_F_<=_FACTR*EPSMCH             \n",
      "\n",
      " Warning:  more than 10 function and gradient\n",
      "   evaluations in the last line search.  Termination\n",
      "   may possibly be caused by a bad search direction.\n"
     ]
    },
    {
     "name": "stderr",
     "output_type": "stream",
     "text": [
      "/tmp/ipykernel_4757/3055876277.py:8: SettingWithCopyWarning: \n",
      "A value is trying to be set on a copy of a slice from a DataFrame.\n",
      "Try using .loc[row_indexer,col_indexer] = value instead\n",
      "\n",
      "See the caveats in the documentation: https://pandas.pydata.org/pandas-docs/stable/user_guide/indexing.html#returning-a-view-versus-a-copy\n",
      "  df_lille['forecast']=results.predict(start=0,end=5000,dynamic=True)\n"
     ]
    },
    {
     "data": {
      "image/png": "[encoded data removed]",
      "text/plain": [
       "<Figure size 432x288 with 1 Axes>"
      ]
     },
     "metadata": {
      "needs_background": "light"
     },
     "output_type": "display_data"
    },
    {
     "name": "stderr",
     "output_type": "stream",
     "text": [
      "/home/fragdata/.local/lib/python3.10/site-packages/statsmodels/tsa/base/tsa_model.py:471: ValueWarning: A date index has been provided, but it has no associated frequency information and so will be ignored when e.g. forecasting.\n",
      "  self._init_dates(dates, freq)\n",
      "/home/fragdata/.local/lib/python3.10/site-packages/statsmodels/tsa/base/tsa_model.py:471: ValueWarning: A date index has been provided, but it has no associated frequency information and so will be ignored when e.g. forecasting.\n",
      "  self._init_dates(dates, freq)\n"
     ]
    },
    {
     "name": "stdout",
     "output_type": "stream",
     "text": [
      "RUNNING THE L-BFGS-B CODE\n",
      "\n",
      "           * * *\n",
      "\n",
      "Machine precision = 2.220D-16\n",
      " N =            5     M =           10\n",
      " This problem is unconstrained.\n",
      "\n",
      "At X0         0 variables are exactly at the bounds\n",
      "\n",
      "At iterate    0    f= -1.74523D+00    |proj g|=  1.13656D+01\n",
      "\n",
      "At iterate    5    f= -1.96665D+00    |proj g|=  1.86989D-01\n",
      "\n",
      "At iterate   10    f= -1.98017D+00    |proj g|=  6.74416D-01\n",
      "\n",
      "At iterate   15    f= -1.98157D+00    |proj g|=  2.47493D-02\n",
      "\n",
      "At iterate   20    f= -1.98200D+00    |proj g|=  5.48878D-03\n",
      "\n",
      "At iterate   25    f= -1.98203D+00    |proj g|=  2.95491D-03\n",
      "\n",
      "           * * *\n",
      "\n",
      "Tit   = total number of iterations\n",
      "Tnf   = total number of function evaluations\n",
      "Tnint = total number of segments explored during Cauchy searches\n",
      "Skip  = number of BFGS updates skipped\n",
      "Nact  = number of active bounds at final generalized Cauchy point\n",
      "Projg = norm of the final projected gradient\n",
      "F     = final function value\n",
      "\n",
      "           * * *\n",
      "\n",
      "   N    Tit     Tnf  Tnint  Skip  Nact     Projg        F\n",
      "    5     27     39      1     0     0   1.009D-04  -1.982D+00\n",
      "  F =  -1.9820253324809380     \n",
      "\n",
      "CONVERGENCE: REL_REDUCTION_OF_F_<=_FACTR*EPSMCH             \n"
     ]
    },
    {
     "name": "stderr",
     "output_type": "stream",
     "text": [
      "/tmp/ipykernel_4757/3055876277.py:8: SettingWithCopyWarning: \n",
      "A value is trying to be set on a copy of a slice from a DataFrame.\n",
      "Try using .loc[row_indexer,col_indexer] = value instead\n",
      "\n",
      "See the caveats in the documentation: https://pandas.pydata.org/pandas-docs/stable/user_guide/indexing.html#returning-a-view-versus-a-copy\n",
      "  df_lille['forecast']=results.predict(start=0,end=5000,dynamic=True)\n"
     ]
    },
    {
     "data": {
      "image/png": "[encoded data removed]",
      "text/plain": [
       "<Figure size 432x288 with 1 Axes>"
      ]
     },
     "metadata": {
      "needs_background": "light"
     },
     "output_type": "display_data"
    },
    {
     "name": "stderr",
     "output_type": "stream",
     "text": [
      "/home/fragdata/.local/lib/python3.10/site-packages/statsmodels/tsa/base/tsa_model.py:471: ValueWarning: A date index has been provided, but it has no associated frequency information and so will be ignored when e.g. forecasting.\n",
      "  self._init_dates(dates, freq)\n",
      "/home/fragdata/.local/lib/python3.10/site-packages/statsmodels/tsa/base/tsa_model.py:471: ValueWarning: A date index has been provided, but it has no associated frequency information and so will be ignored when e.g. forecasting.\n",
      "  self._init_dates(dates, freq)\n"
     ]
    },
    {
     "name": "stdout",
     "output_type": "stream",
     "text": [
      "RUNNING THE L-BFGS-B CODE\n",
      "\n",
      "           * * *\n",
      "\n",
      "Machine precision = 2.220D-16\n",
      " N =            7     M =           10\n",
      " This problem is unconstrained.\n",
      "\n",
      "At X0         0 variables are exactly at the bounds\n",
      "\n",
      "At iterate    0    f= -1.77587D+00    |proj g|=  1.21443D+01\n",
      "\n",
      "At iterate    5    f= -2.03985D+00    |proj g|=  3.04517D-01\n",
      "\n",
      "At iterate   10    f= -2.04500D+00    |proj g|=  3.22514D+00\n",
      "\n",
      "At iterate   15    f= -2.05858D+00    |proj g|=  6.02428D-02\n",
      "\n",
      "At iterate   20    f= -2.05992D+00    |proj g|=  7.25814D-03\n",
      "\n",
      "At iterate   25    f= -2.05995D+00    |proj g|=  1.63259D-02\n",
      "\n",
      "At iterate   30    f= -2.05996D+00    |proj g|=  6.00905D-04\n",
      "\n",
      "           * * *\n",
      "\n",
      "Tit   = total number of iterations\n",
      "Tnf   = total number of function evaluations\n",
      "Tnint = total number of segments explored during Cauchy searches\n",
      "Skip  = number of BFGS updates skipped\n",
      "Nact  = number of active bounds at final generalized Cauchy point\n",
      "Projg = norm of the final projected gradient\n",
      "F     = final function value\n",
      "\n",
      "           * * *\n",
      "\n",
      "   N    Tit     Tnf  Tnint  Skip  Nact     Projg        F\n",
      "    7     33     42      1     0     0   8.988D-06  -2.060D+00\n",
      "  F =  -2.0599577366103556     \n",
      "\n",
      "CONVERGENCE: NORM_OF_PROJECTED_GRADIENT_<=_PGTOL            \n"
     ]
    },
    {
     "name": "stderr",
     "output_type": "stream",
     "text": [
      "/tmp/ipykernel_4757/3055876277.py:8: SettingWithCopyWarning: \n",
      "A value is trying to be set on a copy of a slice from a DataFrame.\n",
      "Try using .loc[row_indexer,col_indexer] = value instead\n",
      "\n",
      "See the caveats in the documentation: https://pandas.pydata.org/pandas-docs/stable/user_guide/indexing.html#returning-a-view-versus-a-copy\n",
      "  df_lille['forecast']=results.predict(start=0,end=5000,dynamic=True)\n"
     ]
    },
    {
     "data": {
      "image/png": "[encoded data removed]",
      "text/plain": [
       "<Figure size 432x288 with 1 Axes>"
      ]
     },
     "metadata": {
      "needs_background": "light"
     },
     "output_type": "display_data"
    },
    {
     "name": "stderr",
     "output_type": "stream",
     "text": [
      "/home/fragdata/.local/lib/python3.10/site-packages/statsmodels/tsa/base/tsa_model.py:471: ValueWarning: A date index has been provided, but it has no associated frequency information and so will be ignored when e.g. forecasting.\n",
      "  self._init_dates(dates, freq)\n",
      "/home/fragdata/.local/lib/python3.10/site-packages/statsmodels/tsa/base/tsa_model.py:471: ValueWarning: A date index has been provided, but it has no associated frequency information and so will be ignored when e.g. forecasting.\n",
      "  self._init_dates(dates, freq)\n"
     ]
    },
    {
     "name": "stdout",
     "output_type": "stream",
     "text": [
      "RUNNING THE L-BFGS-B CODE\n",
      "\n",
      "           * * *\n",
      "\n",
      "Machine precision = 2.220D-16\n",
      " N =            9     M =           10\n",
      " This problem is unconstrained.\n",
      "\n",
      "At X0         0 variables are exactly at the bounds\n",
      "\n",
      "At iterate    0    f= -1.79524D+00    |proj g|=  1.25592D+01\n",
      "\n",
      "At iterate    5    f= -2.07835D+00    |proj g|=  9.72472D-02\n",
      "\n",
      "At iterate   10    f= -2.08160D+00    |proj g|=  2.76279D+00\n",
      "\n",
      "At iterate   15    f= -2.08803D+00    |proj g|=  2.85140D-01\n",
      "\n",
      "At iterate   20    f= -2.09127D+00    |proj g|=  2.01529D-01\n",
      "\n",
      "At iterate   25    f= -2.09175D+00    |proj g|=  2.76796D-02\n",
      "\n",
      "At iterate   30    f= -2.09176D+00    |proj g|=  3.82230D-03\n",
      "\n",
      "           * * *\n",
      "\n",
      "Tit   = total number of iterations\n",
      "Tnf   = total number of function evaluations\n",
      "Tnint = total number of segments explored during Cauchy searches\n",
      "Skip  = number of BFGS updates skipped\n",
      "Nact  = number of active bounds at final generalized Cauchy point\n",
      "Projg = norm of the final projected gradient\n",
      "F     = final function value\n",
      "\n",
      "           * * *\n",
      "\n",
      "   N    Tit     Tnf  Tnint  Skip  Nact     Projg        F\n",
      "    9     32     55      1     0     0   8.257D-04  -2.092D+00\n",
      "  F =  -2.0917636554696313     \n",
      "\n",
      "CONVERGENCE: REL_REDUCTION_OF_F_<=_FACTR*EPSMCH             \n",
      "\n",
      " Warning:  more than 10 function and gradient\n",
      "   evaluations in the last line search.  Termination\n",
      "   may possibly be caused by a bad search direction.\n"
     ]
    },
    {
     "name": "stderr",
     "output_type": "stream",
     "text": [
      "/tmp/ipykernel_4757/3055876277.py:8: SettingWithCopyWarning: \n",
      "A value is trying to be set on a copy of a slice from a DataFrame.\n",
      "Try using .loc[row_indexer,col_indexer] = value instead\n",
      "\n",
      "See the caveats in the documentation: https://pandas.pydata.org/pandas-docs/stable/user_guide/indexing.html#returning-a-view-versus-a-copy\n",
      "  df_lille['forecast']=results.predict(start=0,end=5000,dynamic=True)\n"
     ]
    },
    {
     "data": {
      "image/png": "[encoded data removed]",
      "text/plain": [
       "<Figure size 432x288 with 1 Axes>"
      ]
     },
     "metadata": {
      "needs_background": "light"
     },
     "output_type": "display_data"
    },
    {
     "name": "stderr",
     "output_type": "stream",
     "text": [
      "/home/fragdata/.local/lib/python3.10/site-packages/statsmodels/tsa/base/tsa_model.py:471: ValueWarning: A date index has been provided, but it has no associated frequency information and so will be ignored when e.g. forecasting.\n",
      "  self._init_dates(dates, freq)\n",
      "/home/fragdata/.local/lib/python3.10/site-packages/statsmodels/tsa/base/tsa_model.py:471: ValueWarning: A date index has been provided, but it has no associated frequency information and so will be ignored when e.g. forecasting.\n",
      "  self._init_dates(dates, freq)\n"
     ]
    },
    {
     "name": "stdout",
     "output_type": "stream",
     "text": [
      "RUNNING THE L-BFGS-B CODE\n",
      "\n",
      "           * * *\n",
      "\n",
      "Machine precision = 2.220D-16\n",
      " N =            1     M =           10\n",
      " This problem is unconstrained.\n",
      "\n",
      "At X0         0 variables are exactly at the bounds\n",
      "\n",
      "At iterate    0    f= -1.76852D+00    |proj g|=  4.82553D-02\n",
      "\n",
      " Bad direction in the line search;\n",
      "   refresh the lbfgs memory and restart the iteration.\n",
      "\n",
      "           * * *\n",
      "\n",
      "Tit   = total number of iterations\n",
      "Tnf   = total number of function evaluations\n",
      "Tnint = total number of segments explored during Cauchy searches\n",
      "Skip  = number of BFGS updates skipped\n",
      "Nact  = number of active bounds at final generalized Cauchy point\n",
      "Projg = norm of the final projected gradient\n",
      "F     = final function value\n",
      "\n",
      "           * * *\n",
      "\n",
      "   N    Tit     Tnf  Tnint  Skip  Nact     Projg        F\n",
      "    1      4     61      2     0     0   8.207D-03  -1.769D+00\n",
      "  F =  -1.7685165052524234     \n",
      "\n",
      "ABNORMAL_TERMINATION_IN_LNSRCH                              \n",
      "\n",
      " Line search cannot locate an adequate point after 20 function\n",
      "  and gradient evaluations.  Previous x, f and g restored.\n",
      " Possible causes: 1 error in function or gradient evaluation;\n",
      "                  2 rounding error dominate computation.\n"
     ]
    },
    {
     "name": "stderr",
     "output_type": "stream",
     "text": [
      "/home/fragdata/.local/lib/python3.10/site-packages/statsmodels/base/model.py:604: ConvergenceWarning: Maximum Likelihood optimization failed to converge. Check mle_retvals\n",
      "  warnings.warn(\"Maximum Likelihood optimization failed to \"\n",
      "/tmp/ipykernel_4757/3055876277.py:8: SettingWithCopyWarning: \n",
      "A value is trying to be set on a copy of a slice from a DataFrame.\n",
      "Try using .loc[row_indexer,col_indexer] = value instead\n",
      "\n",
      "See the caveats in the documentation: https://pandas.pydata.org/pandas-docs/stable/user_guide/indexing.html#returning-a-view-versus-a-copy\n",
      "  df_lille['forecast']=results.predict(start=0,end=5000,dynamic=True)\n"
     ]
    },
    {
     "data": {
      "image/png": "[encoded data removed]",
      "text/plain": [
       "<Figure size 432x288 with 1 Axes>"
      ]
     },
     "metadata": {
      "needs_background": "light"
     },
     "output_type": "display_data"
    },
    {
     "name": "stderr",
     "output_type": "stream",
     "text": [
      "/home/fragdata/.local/lib/python3.10/site-packages/statsmodels/tsa/base/tsa_model.py:471: ValueWarning: A date index has been provided, but it has no associated frequency information and so will be ignored when e.g. forecasting.\n",
      "  self._init_dates(dates, freq)\n",
      "/home/fragdata/.local/lib/python3.10/site-packages/statsmodels/tsa/base/tsa_model.py:471: ValueWarning: A date index has been provided, but it has no associated frequency information and so will be ignored when e.g. forecasting.\n",
      "  self._init_dates(dates, freq)\n"
     ]
    },
    {
     "name": "stdout",
     "output_type": "stream",
     "text": [
      "RUNNING THE L-BFGS-B CODE\n",
      "\n",
      "           * * *\n",
      "\n",
      "Machine precision = 2.220D-16\n",
      " N =            3     M =           10\n",
      " This problem is unconstrained.\n",
      "\n",
      "At X0         0 variables are exactly at the bounds\n",
      "\n",
      "At iterate    0    f= -2.10669D+00    |proj g|=  1.16653D+01\n",
      "\n",
      "At iterate    5    f= -2.16996D+00    |proj g|=  4.07078D-01\n",
      "\n",
      "At iterate   10    f= -2.17900D+00    |proj g|=  6.26656D+00\n",
      "\n",
      "At iterate   15    f= -2.20865D+00    |proj g|=  6.91257D-02\n",
      "\n",
      "At iterate   20    f= -2.21114D+00    |proj g|=  8.56102D-02\n",
      "\n",
      "At iterate   25    f= -2.23405D+00    |proj g|=  4.23880D-01\n",
      "\n",
      "At iterate   30    f= -2.23632D+00    |proj g|=  1.64766D-01\n",
      "\n",
      "At iterate   35    f= -2.23636D+00    |proj g|=  6.21073D-03\n",
      "\n",
      "At iterate   40    f= -2.23636D+00    |proj g|=  2.72011D-02\n",
      "\n",
      "At iterate   45    f= -2.23636D+00    |proj g|=  4.46181D-03\n",
      "\n",
      "           * * *\n",
      "\n",
      "Tit   = total number of iterations\n",
      "Tnf   = total number of function evaluations\n",
      "Tnint = total number of segments explored during Cauchy searches\n",
      "Skip  = number of BFGS updates skipped\n",
      "Nact  = number of active bounds at final generalized Cauchy point\n",
      "Projg = norm of the final projected gradient\n",
      "F     = final function value\n",
      "\n",
      "           * * *\n",
      "\n",
      "   N    Tit     Tnf  Tnint  Skip  Nact     Projg        F\n",
      "    3     45     73      1     0     0   4.462D-03  -2.236D+00\n",
      "  F =  -2.2363645345735210     \n",
      "\n",
      "CONVERGENCE: REL_REDUCTION_OF_F_<=_FACTR*EPSMCH             \n",
      "\n",
      " Warning:  more than 10 function and gradient\n",
      "   evaluations in the last line search.  Termination\n",
      "   may possibly be caused by a bad search direction.\n"
     ]
    },
    {
     "name": "stderr",
     "output_type": "stream",
     "text": [
      "/tmp/ipykernel_4757/3055876277.py:8: SettingWithCopyWarning: \n",
      "A value is trying to be set on a copy of a slice from a DataFrame.\n",
      "Try using .loc[row_indexer,col_indexer] = value instead\n",
      "\n",
      "See the caveats in the documentation: https://pandas.pydata.org/pandas-docs/stable/user_guide/indexing.html#returning-a-view-versus-a-copy\n",
      "  df_lille['forecast']=results.predict(start=0,end=5000,dynamic=True)\n"
     ]
    },
    {
     "data": {
      "image/png": "[encoded data removed]",
      "text/plain": [
       "<Figure size 432x288 with 1 Axes>"
      ]
     },
     "metadata": {
      "needs_background": "light"
     },
     "output_type": "display_data"
    },
    {
     "name": "stderr",
     "output_type": "stream",
     "text": [
      "/home/fragdata/.local/lib/python3.10/site-packages/statsmodels/tsa/base/tsa_model.py:471: ValueWarning: A date index has been provided, but it has no associated frequency information and so will be ignored when e.g. forecasting.\n",
      "  self._init_dates(dates, freq)\n",
      "/home/fragdata/.local/lib/python3.10/site-packages/statsmodels/tsa/base/tsa_model.py:471: ValueWarning: A date index has been provided, but it has no associated frequency information and so will be ignored when e.g. forecasting.\n",
      "  self._init_dates(dates, freq)\n"
     ]
    },
    {
     "name": "stdout",
     "output_type": "stream",
     "text": [
      "RUNNING THE L-BFGS-B CODE\n",
      "\n",
      "           * * *\n",
      "\n",
      "Machine precision = 2.220D-16\n",
      " N =            5     M =           10\n",
      " This problem is unconstrained.\n",
      "\n",
      "At X0         0 variables are exactly at the bounds\n",
      "\n",
      "At iterate    0    f= -2.12769D+00    |proj g|=  1.26691D+01\n",
      "\n",
      "At iterate    5    f= -2.20460D+00    |proj g|=  7.02106D-01\n",
      "\n",
      "At iterate   10    f= -2.20763D+00    |proj g|=  6.80761D-02\n",
      "\n",
      "At iterate   15    f= -2.20781D+00    |proj g|=  6.91067D-01\n",
      "\n",
      "At iterate   20    f= -2.21507D+00    |proj g|=  2.13169D+00\n",
      "\n",
      "At iterate   25    f= -2.21664D+00    |proj g|=  1.72879D-01\n",
      "\n",
      "At iterate   30    f= -2.21896D+00    |proj g|=  2.54412D+00\n",
      "\n",
      "At iterate   35    f= -2.22665D+00    |proj g|=  1.82250D-01\n",
      "\n",
      "At iterate   40    f= -2.22746D+00    |proj g|=  6.43560D-01\n",
      "\n",
      "At iterate   45    f= -2.23558D+00    |proj g|=  6.14796D-01\n"
     ]
    },
    {
     "name": "stderr",
     "output_type": "stream",
     "text": [
      "/home/fragdata/.local/lib/python3.10/site-packages/statsmodels/base/model.py:604: ConvergenceWarning: Maximum Likelihood optimization failed to converge. Check mle_retvals\n",
      "  warnings.warn(\"Maximum Likelihood optimization failed to \"\n"
     ]
    },
    {
     "name": "stdout",
     "output_type": "stream",
     "text": [
      "\n",
      "At iterate   50    f= -2.23645D+00    |proj g|=  5.29592D-02\n",
      "\n",
      "           * * *\n",
      "\n",
      "Tit   = total number of iterations\n",
      "Tnf   = total number of function evaluations\n",
      "Tnint = total number of segments explored during Cauchy searches\n",
      "Skip  = number of BFGS updates skipped\n",
      "Nact  = number of active bounds at final generalized Cauchy point\n",
      "Projg = norm of the final projected gradient\n",
      "F     = final function value\n",
      "\n",
      "           * * *\n",
      "\n",
      "   N    Tit     Tnf  Tnint  Skip  Nact     Projg        F\n",
      "    5     50     62      1     0     0   5.296D-02  -2.236D+00\n",
      "  F =  -2.2364548193071734     \n",
      "\n",
      "STOP: TOTAL NO. of ITERATIONS REACHED LIMIT                 \n"
     ]
    },
    {
     "name": "stderr",
     "output_type": "stream",
     "text": [
      "/tmp/ipykernel_4757/3055876277.py:8: SettingWithCopyWarning: \n",
      "A value is trying to be set on a copy of a slice from a DataFrame.\n",
      "Try using .loc[row_indexer,col_indexer] = value instead\n",
      "\n",
      "See the caveats in the documentation: https://pandas.pydata.org/pandas-docs/stable/user_guide/indexing.html#returning-a-view-versus-a-copy\n",
      "  df_lille['forecast']=results.predict(start=0,end=5000,dynamic=True)\n"
     ]
    },
    {
     "data": {
      "image/png": "[encoded data removed]",
      "text/plain": [
       "<Figure size 432x288 with 1 Axes>"
      ]
     },
     "metadata": {
      "needs_background": "light"
     },
     "output_type": "display_data"
    },
    {
     "name": "stderr",
     "output_type": "stream",
     "text": [
      "/home/fragdata/.local/lib/python3.10/site-packages/statsmodels/tsa/base/tsa_model.py:471: ValueWarning: A date index has been provided, but it has no associated frequency information and so will be ignored when e.g. forecasting.\n",
      "  self._init_dates(dates, freq)\n",
      "/home/fragdata/.local/lib/python3.10/site-packages/statsmodels/tsa/base/tsa_model.py:471: ValueWarning: A date index has been provided, but it has no associated frequency information and so will be ignored when e.g. forecasting.\n",
      "  self._init_dates(dates, freq)\n"
     ]
    },
    {
     "name": "stdout",
     "output_type": "stream",
     "text": [
      "RUNNING THE L-BFGS-B CODE\n",
      "\n",
      "           * * *\n",
      "\n",
      "Machine precision = 2.220D-16\n",
      " N =            7     M =           10\n",
      " This problem is unconstrained.\n",
      "\n",
      "At X0         0 variables are exactly at the bounds\n",
      "\n",
      "At iterate    0    f= -2.13587D+00    |proj g|=  1.31435D+01\n",
      "\n",
      "At iterate    5    f= -2.21994D+00    |proj g|=  3.39286D-01\n",
      "\n",
      "At iterate   10    f= -2.22307D+00    |proj g|=  2.58631D+00\n",
      "\n",
      "At iterate   15    f= -2.22484D+00    |proj g|=  6.48399D-01\n",
      "\n",
      "At iterate   20    f= -2.22538D+00    |proj g|=  8.31542D-02\n",
      "\n",
      "At iterate   25    f= -2.22547D+00    |proj g|=  3.44996D-01\n",
      "\n",
      "At iterate   30    f= -2.22633D+00    |proj g|=  3.56016D-01\n",
      "\n",
      "At iterate   35    f= -2.23233D+00    |proj g|=  6.79411D-01\n",
      "\n",
      "At iterate   40    f= -2.23741D+00    |proj g|=  3.49120D-01\n",
      "\n",
      "At iterate   45    f= -2.23795D+00    |proj g|=  4.71550D-02\n"
     ]
    },
    {
     "name": "stderr",
     "output_type": "stream",
     "text": [
      "/home/fragdata/.local/lib/python3.10/site-packages/statsmodels/base/model.py:604: ConvergenceWarning: Maximum Likelihood optimization failed to converge. Check mle_retvals\n",
      "  warnings.warn(\"Maximum Likelihood optimization failed to \"\n"
     ]
    },
    {
     "name": "stdout",
     "output_type": "stream",
     "text": [
      "\n",
      "At iterate   50    f= -2.23802D+00    |proj g|=  1.35674D-02\n",
      "\n",
      "           * * *\n",
      "\n",
      "Tit   = total number of iterations\n",
      "Tnf   = total number of function evaluations\n",
      "Tnint = total number of segments explored during Cauchy searches\n",
      "Skip  = number of BFGS updates skipped\n",
      "Nact  = number of active bounds at final generalized Cauchy point\n",
      "Projg = norm of the final projected gradient\n",
      "F     = final function value\n",
      "\n",
      "           * * *\n",
      "\n",
      "   N    Tit     Tnf  Tnint  Skip  Nact     Projg        F\n",
      "    7     50     64      1     0     0   1.357D-02  -2.238D+00\n",
      "  F =  -2.2380196915099959     \n",
      "\n",
      "STOP: TOTAL NO. of ITERATIONS REACHED LIMIT                 \n"
     ]
    },
    {
     "name": "stderr",
     "output_type": "stream",
     "text": [
      "/tmp/ipykernel_4757/3055876277.py:8: SettingWithCopyWarning: \n",
      "A value is trying to be set on a copy of a slice from a DataFrame.\n",
      "Try using .loc[row_indexer,col_indexer] = value instead\n",
      "\n",
      "See the caveats in the documentation: https://pandas.pydata.org/pandas-docs/stable/user_guide/indexing.html#returning-a-view-versus-a-copy\n",
      "  df_lille['forecast']=results.predict(start=0,end=5000,dynamic=True)\n"
     ]
    },
    {
     "data": {
      "image/png": "[encoded data removed]",
      "text/plain": [
       "<Figure size 432x288 with 1 Axes>"
      ]
     },
     "metadata": {
      "needs_background": "light"
     },
     "output_type": "display_data"
    },
    {
     "name": "stderr",
     "output_type": "stream",
     "text": [
      "/home/fragdata/.local/lib/python3.10/site-packages/statsmodels/tsa/base/tsa_model.py:471: ValueWarning: A date index has been provided, but it has no associated frequency information and so will be ignored when e.g. forecasting.\n",
      "  self._init_dates(dates, freq)\n",
      "/home/fragdata/.local/lib/python3.10/site-packages/statsmodels/tsa/base/tsa_model.py:471: ValueWarning: A date index has been provided, but it has no associated frequency information and so will be ignored when e.g. forecasting.\n",
      "  self._init_dates(dates, freq)\n"
     ]
    },
    {
     "name": "stdout",
     "output_type": "stream",
     "text": [
      "RUNNING THE L-BFGS-B CODE\n",
      "\n",
      "           * * *\n",
      "\n",
      "Machine precision = 2.220D-16\n",
      " N =            9     M =           10\n",
      " This problem is unconstrained.\n",
      "\n",
      "At X0         0 variables are exactly at the bounds\n",
      "\n",
      "At iterate    0    f= -2.13830D+00    |proj g|=  1.32902D+01\n",
      "\n",
      "At iterate    5    f= -2.22477D+00    |proj g|=  4.09678D-01\n",
      "\n",
      "At iterate   10    f= -2.22815D+00    |proj g|=  2.08781D+00\n",
      "\n",
      "At iterate   15    f= -2.22893D+00    |proj g|=  1.21921D-02\n",
      "\n",
      "At iterate   20    f= -2.22929D+00    |proj g|=  1.76813D-01\n",
      "\n",
      "At iterate   25    f= -2.22941D+00    |proj g|=  1.31301D-01\n",
      "\n",
      "At iterate   30    f= -2.22968D+00    |proj g|=  1.38289D-02\n",
      "\n",
      "At iterate   35    f= -2.23016D+00    |proj g|=  3.40934D-01\n",
      "\n",
      "At iterate   40    f= -2.23422D+00    |proj g|=  9.19324D-02\n",
      "\n",
      "At iterate   45    f= -2.23771D+00    |proj g|=  2.82080D-01\n",
      "\n",
      "At iterate   50    f= -2.23816D+00    |proj g|=  1.04963D-01\n",
      "\n",
      "           * * *\n",
      "\n",
      "Tit   = total number of iterations\n",
      "Tnf   = total number of function evaluations\n",
      "Tnint = total number of segments explored during Cauchy searches\n",
      "Skip  = number of BFGS updates skipped\n",
      "Nact  = number of active bounds at final generalized Cauchy point\n",
      "Projg = norm of the final projected gradient\n",
      "F     = final function value\n",
      "\n",
      "           * * *\n",
      "\n",
      "   N    Tit     Tnf  Tnint  Skip  Nact     Projg        F\n",
      "    9     50     62      1     0     0   1.050D-01  -2.238D+00\n",
      "  F =  -2.2381646913886528     \n",
      "\n",
      "STOP: TOTAL NO. of ITERATIONS REACHED LIMIT                 \n"
     ]
    },
    {
     "name": "stderr",
     "output_type": "stream",
     "text": [
      "/home/fragdata/.local/lib/python3.10/site-packages/statsmodels/base/model.py:604: ConvergenceWarning: Maximum Likelihood optimization failed to converge. Check mle_retvals\n",
      "  warnings.warn(\"Maximum Likelihood optimization failed to \"\n",
      "/tmp/ipykernel_4757/3055876277.py:8: SettingWithCopyWarning: \n",
      "A value is trying to be set on a copy of a slice from a DataFrame.\n",
      "Try using .loc[row_indexer,col_indexer] = value instead\n",
      "\n",
      "See the caveats in the documentation: https://pandas.pydata.org/pandas-docs/stable/user_guide/indexing.html#returning-a-view-versus-a-copy\n",
      "  df_lille['forecast']=results.predict(start=0,end=5000,dynamic=True)\n"
     ]
    },
    {
     "data": {
      "image/png": "[encoded data removed]",
      "text/plain": [
       "<Figure size 432x288 with 1 Axes>"
      ]
     },
     "metadata": {
      "needs_background": "light"
     },
     "output_type": "display_data"
    },
    {
     "name": "stderr",
     "output_type": "stream",
     "text": [
      "/home/fragdata/.local/lib/python3.10/site-packages/statsmodels/tsa/base/tsa_model.py:471: ValueWarning: A date index has been provided, but it has no associated frequency information and so will be ignored when e.g. forecasting.\n",
      "  self._init_dates(dates, freq)\n",
      "/home/fragdata/.local/lib/python3.10/site-packages/statsmodels/tsa/base/tsa_model.py:471: ValueWarning: A date index has been provided, but it has no associated frequency information and so will be ignored when e.g. forecasting.\n",
      "  self._init_dates(dates, freq)\n"
     ]
    },
    {
     "name": "stdout",
     "output_type": "stream",
     "text": [
      "RUNNING THE L-BFGS-B CODE\n",
      "\n",
      "           * * *\n",
      "\n",
      "Machine precision = 2.220D-16\n",
      " N =            1     M =           10\n",
      " This problem is unconstrained.\n",
      "\n",
      "At X0         0 variables are exactly at the bounds\n",
      "\n",
      "At iterate    0    f= -7.00403D-01    |proj g|=  3.73840D-02\n",
      "\n",
      "           * * *\n",
      "\n",
      "Tit   = total number of iterations\n",
      "Tnf   = total number of function evaluations\n",
      "Tnint = total number of segments explored during Cauchy searches\n",
      "Skip  = number of BFGS updates skipped\n",
      "Nact  = number of active bounds at final generalized Cauchy point\n",
      "Projg = norm of the final projected gradient\n",
      "F     = final function value\n",
      "\n",
      "           * * *\n",
      "\n",
      "   N    Tit     Tnf  Tnint  Skip  Nact     Projg        F\n",
      "    1      2      5      1     0     0   1.743D-04  -7.004D-01\n",
      "  F = -0.70040825697088849     \n",
      "\n",
      "CONVERGENCE: REL_REDUCTION_OF_F_<=_FACTR*EPSMCH             \n"
     ]
    },
    {
     "name": "stderr",
     "output_type": "stream",
     "text": [
      "/tmp/ipykernel_4757/3055876277.py:8: SettingWithCopyWarning: \n",
      "A value is trying to be set on a copy of a slice from a DataFrame.\n",
      "Try using .loc[row_indexer,col_indexer] = value instead\n",
      "\n",
      "See the caveats in the documentation: https://pandas.pydata.org/pandas-docs/stable/user_guide/indexing.html#returning-a-view-versus-a-copy\n",
      "  df_lille['forecast']=results.predict(start=0,end=5000,dynamic=True)\n"
     ]
    },
    {
     "data": {
      "image/png": "[encoded data removed]",
      "text/plain": [
       "<Figure size 432x288 with 1 Axes>"
      ]
     },
     "metadata": {
      "needs_background": "light"
     },
     "output_type": "display_data"
    },
    {
     "name": "stderr",
     "output_type": "stream",
     "text": [
      "/home/fragdata/.local/lib/python3.10/site-packages/statsmodels/tsa/base/tsa_model.py:471: ValueWarning: A date index has been provided, but it has no associated frequency information and so will be ignored when e.g. forecasting.\n",
      "  self._init_dates(dates, freq)\n",
      "/home/fragdata/.local/lib/python3.10/site-packages/statsmodels/tsa/base/tsa_model.py:471: ValueWarning: A date index has been provided, but it has no associated frequency information and so will be ignored when e.g. forecasting.\n",
      "  self._init_dates(dates, freq)\n",
      "/home/fragdata/.local/lib/python3.10/site-packages/statsmodels/tsa/statespace/sarimax.py:978: UserWarning: Non-invertible starting MA parameters found. Using zeros as starting parameters.\n",
      "  warn('Non-invertible starting MA parameters found.'\n",
      "/home/fragdata/.local/lib/python3.10/site-packages/statsmodels/tsa/statespace/sarimax.py:1009: UserWarning: Non-invertible starting seasonal moving average Using zeros as starting parameters.\n",
      "  warn('Non-invertible starting seasonal moving average'\n"
     ]
    },
    {
     "name": "stdout",
     "output_type": "stream",
     "text": [
      "RUNNING THE L-BFGS-B CODE\n",
      "\n",
      "           * * *\n",
      "\n",
      "Machine precision = 2.220D-16\n",
      " N =            3     M =           10\n",
      " This problem is unconstrained.\n",
      "\n",
      "At X0         0 variables are exactly at the bounds\n",
      "\n",
      "At iterate    0    f= -4.84411D-01    |proj g|=  1.54324D+01\n",
      "\n",
      "At iterate    5    f= -7.94943D-01    |proj g|=  3.00243D+00\n",
      "\n",
      "At iterate   10    f= -1.60048D+00    |proj g|=  4.59665D+00\n",
      "\n",
      "At iterate   15    f= -1.73848D+00    |proj g|=  3.77317D-01\n",
      "\n",
      "At iterate   20    f= -1.75386D+00    |proj g|=  3.13762D-01\n",
      "\n",
      "           * * *\n",
      "\n",
      "Tit   = total number of iterations\n",
      "Tnf   = total number of function evaluations\n",
      "Tnint = total number of segments explored during Cauchy searches\n",
      "Skip  = number of BFGS updates skipped\n",
      "Nact  = number of active bounds at final generalized Cauchy point\n",
      "Projg = norm of the final projected gradient\n",
      "F     = final function value\n",
      "\n",
      "           * * *\n",
      "\n",
      "   N    Tit     Tnf  Tnint  Skip  Nact     Projg        F\n",
      "    3     24     39      1     0     0   8.231D-02  -1.755D+00\n",
      "  F =  -1.7550882921035353     \n",
      "\n",
      "CONVERGENCE: REL_REDUCTION_OF_F_<=_FACTR*EPSMCH             \n"
     ]
    },
    {
     "name": "stderr",
     "output_type": "stream",
     "text": [
      "/tmp/ipykernel_4757/3055876277.py:8: SettingWithCopyWarning: \n",
      "A value is trying to be set on a copy of a slice from a DataFrame.\n",
      "Try using .loc[row_indexer,col_indexer] = value instead\n",
      "\n",
      "See the caveats in the documentation: https://pandas.pydata.org/pandas-docs/stable/user_guide/indexing.html#returning-a-view-versus-a-copy\n",
      "  df_lille['forecast']=results.predict(start=0,end=5000,dynamic=True)\n"
     ]
    },
    {
     "data": {
      "image/png": "[encoded data removed]",
      "text/plain": [
       "<Figure size 432x288 with 1 Axes>"
      ]
     },
     "metadata": {
      "needs_background": "light"
     },
     "output_type": "display_data"
    },
    {
     "name": "stderr",
     "output_type": "stream",
     "text": [
      "/home/fragdata/.local/lib/python3.10/site-packages/statsmodels/tsa/base/tsa_model.py:471: ValueWarning: A date index has been provided, but it has no associated frequency information and so will be ignored when e.g. forecasting.\n",
      "  self._init_dates(dates, freq)\n",
      "/home/fragdata/.local/lib/python3.10/site-packages/statsmodels/tsa/base/tsa_model.py:471: ValueWarning: A date index has been provided, but it has no associated frequency information and so will be ignored when e.g. forecasting.\n",
      "  self._init_dates(dates, freq)\n",
      "/home/fragdata/.local/lib/python3.10/site-packages/statsmodels/tsa/statespace/sarimax.py:1009: UserWarning: Non-invertible starting seasonal moving average Using zeros as starting parameters.\n",
      "  warn('Non-invertible starting seasonal moving average'\n"
     ]
    },
    {
     "name": "stdout",
     "output_type": "stream",
     "text": [
      "RUNNING THE L-BFGS-B CODE\n",
      "\n",
      "           * * *\n",
      "\n",
      "Machine precision = 2.220D-16\n",
      " N =            5     M =           10\n",
      " This problem is unconstrained.\n",
      "\n",
      "At X0         0 variables are exactly at the bounds\n",
      "\n",
      "At iterate    0    f= -1.28618D+00    |proj g|=  2.27340D+00\n",
      "\n",
      "At iterate    5    f= -1.96983D+00    |proj g|=  3.05405D-01\n",
      "\n",
      "At iterate   10    f= -1.99237D+00    |proj g|=  9.44743D-01\n",
      "\n",
      "At iterate   15    f= -2.10231D+00    |proj g|=  4.88772D+00\n",
      "\n",
      "At iterate   20    f= -2.13545D+00    |proj g|=  5.82757D+00\n",
      "\n",
      "At iterate   25    f= -2.14804D+00    |proj g|=  8.22173D-02\n",
      "\n",
      "At iterate   30    f= -2.15131D+00    |proj g|=  1.72722D+00\n",
      "\n",
      "At iterate   35    f= -2.19527D+00    |proj g|=  1.01470D+00\n",
      "\n",
      "At iterate   40    f= -2.19954D+00    |proj g|=  5.01645D-01\n",
      "\n",
      "At iterate   45    f= -2.19968D+00    |proj g|=  2.21945D-01\n"
     ]
    },
    {
     "name": "stderr",
     "output_type": "stream",
     "text": [
      "/home/fragdata/.local/lib/python3.10/site-packages/statsmodels/base/model.py:604: ConvergenceWarning: Maximum Likelihood optimization failed to converge. Check mle_retvals\n",
      "  warnings.warn(\"Maximum Likelihood optimization failed to \"\n"
     ]
    },
    {
     "name": "stdout",
     "output_type": "stream",
     "text": [
      "\n",
      "At iterate   50    f= -2.19988D+00    |proj g|=  1.10135D-01\n",
      "\n",
      "           * * *\n",
      "\n",
      "Tit   = total number of iterations\n",
      "Tnf   = total number of function evaluations\n",
      "Tnint = total number of segments explored during Cauchy searches\n",
      "Skip  = number of BFGS updates skipped\n",
      "Nact  = number of active bounds at final generalized Cauchy point\n",
      "Projg = norm of the final projected gradient\n",
      "F     = final function value\n",
      "\n",
      "           * * *\n",
      "\n",
      "   N    Tit     Tnf  Tnint  Skip  Nact     Projg        F\n",
      "    5     50     79      1     0     0   1.101D-01  -2.200D+00\n",
      "  F =  -2.1998780262017359     \n",
      "\n",
      "STOP: TOTAL NO. of ITERATIONS REACHED LIMIT                 \n"
     ]
    },
    {
     "name": "stderr",
     "output_type": "stream",
     "text": [
      "/tmp/ipykernel_4757/3055876277.py:8: SettingWithCopyWarning: \n",
      "A value is trying to be set on a copy of a slice from a DataFrame.\n",
      "Try using .loc[row_indexer,col_indexer] = value instead\n",
      "\n",
      "See the caveats in the documentation: https://pandas.pydata.org/pandas-docs/stable/user_guide/indexing.html#returning-a-view-versus-a-copy\n",
      "  df_lille['forecast']=results.predict(start=0,end=5000,dynamic=True)\n"
     ]
    },
    {
     "data": {
      "image/png": "[encoded data removed]",
      "text/plain": [
       "<Figure size 432x288 with 1 Axes>"
      ]
     },
     "metadata": {
      "needs_background": "light"
     },
     "output_type": "display_data"
    },
    {
     "name": "stderr",
     "output_type": "stream",
     "text": [
      "/home/fragdata/.local/lib/python3.10/site-packages/statsmodels/tsa/base/tsa_model.py:471: ValueWarning: A date index has been provided, but it has no associated frequency information and so will be ignored when e.g. forecasting.\n",
      "  self._init_dates(dates, freq)\n",
      "/home/fragdata/.local/lib/python3.10/site-packages/statsmodels/tsa/base/tsa_model.py:471: ValueWarning: A date index has been provided, but it has no associated frequency information and so will be ignored when e.g. forecasting.\n",
      "  self._init_dates(dates, freq)\n",
      "/home/fragdata/.local/lib/python3.10/site-packages/statsmodels/tsa/statespace/sarimax.py:978: UserWarning: Non-invertible starting MA parameters found. Using zeros as starting parameters.\n",
      "  warn('Non-invertible starting MA parameters found.'\n",
      "/home/fragdata/.local/lib/python3.10/site-packages/statsmodels/tsa/statespace/sarimax.py:1009: UserWarning: Non-invertible starting seasonal moving average Using zeros as starting parameters.\n",
      "  warn('Non-invertible starting seasonal moving average'\n"
     ]
    },
    {
     "name": "stdout",
     "output_type": "stream",
     "text": [
      "RUNNING THE L-BFGS-B CODE\n",
      "\n",
      "           * * *\n",
      "\n",
      "Machine precision = 2.220D-16\n",
      " N =            7     M =           10\n",
      " This problem is unconstrained.\n",
      "\n",
      "At X0         0 variables are exactly at the bounds\n",
      "\n",
      "At iterate    0    f= -2.47804D-01    |proj g|=  2.90192D+01\n",
      "\n",
      "At iterate    5    f= -8.61235D-01    |proj g|=  1.38582D+00\n",
      "\n",
      "At iterate   10    f= -1.90628D+00    |proj g|=  4.42745D+00\n",
      "\n",
      "At iterate   15    f= -2.05592D+00    |proj g|=  3.68339D-01\n",
      "\n",
      "At iterate   20    f= -2.06010D+00    |proj g|=  2.12486D+00\n",
      "\n",
      "At iterate   25    f= -2.11547D+00    |proj g|=  1.89075D+00\n",
      "\n",
      "At iterate   30    f= -2.15538D+00    |proj g|=  1.56169D-01\n",
      "\n",
      "At iterate   35    f= -2.17619D+00    |proj g|=  4.42815D-02\n",
      "\n",
      "At iterate   40    f= -2.17887D+00    |proj g|=  1.67117D+00\n",
      "  ys=-2.269E-07  -gs= 4.830E-08 BFGS update SKIPPED\n",
      "\n",
      " Bad direction in the line search;\n",
      "   refresh the lbfgs memory and restart the iteration.\n",
      "\n",
      "At iterate   45    f= -2.17941D+00    |proj g|=  9.28811D-02\n",
      "\n",
      "At iterate   50    f= -2.17981D+00    |proj g|=  4.40103D-02\n",
      "\n",
      "           * * *\n",
      "\n",
      "Tit   = total number of iterations\n",
      "Tnf   = total number of function evaluations\n",
      "Tnint = total number of segments explored during Cauchy searches\n",
      "Skip  = number of BFGS updates skipped\n",
      "Nact  = number of active bounds at final generalized Cauchy point\n",
      "Projg = norm of the final projected gradient\n",
      "F     = final function value\n",
      "\n",
      "           * * *\n",
      "\n",
      "   N    Tit     Tnf  Tnint  Skip  Nact     Projg        F\n",
      "    7     50    107      2     1     0   4.401D-02  -2.180D+00\n",
      "  F =  -2.1798060442522043     \n",
      "\n",
      "STOP: TOTAL NO. of ITERATIONS REACHED LIMIT                 \n"
     ]
    },
    {
     "name": "stderr",
     "output_type": "stream",
     "text": [
      "/home/fragdata/.local/lib/python3.10/site-packages/statsmodels/base/model.py:604: ConvergenceWarning: Maximum Likelihood optimization failed to converge. Check mle_retvals\n",
      "  warnings.warn(\"Maximum Likelihood optimization failed to \"\n",
      "/tmp/ipykernel_4757/3055876277.py:8: SettingWithCopyWarning: \n",
      "A value is trying to be set on a copy of a slice from a DataFrame.\n",
      "Try using .loc[row_indexer,col_indexer] = value instead\n",
      "\n",
      "See the caveats in the documentation: https://pandas.pydata.org/pandas-docs/stable/user_guide/indexing.html#returning-a-view-versus-a-copy\n",
      "  df_lille['forecast']=results.predict(start=0,end=5000,dynamic=True)\n"
     ]
    },
    {
     "data": {
      "image/png": "[encoded data removed]",
      "text/plain": [
       "<Figure size 432x288 with 1 Axes>"
      ]
     },
     "metadata": {
      "needs_background": "light"
     },
     "output_type": "display_data"
    },
    {
     "name": "stderr",
     "output_type": "stream",
     "text": [
      "/home/fragdata/.local/lib/python3.10/site-packages/statsmodels/tsa/base/tsa_model.py:471: ValueWarning: A date index has been provided, but it has no associated frequency information and so will be ignored when e.g. forecasting.\n",
      "  self._init_dates(dates, freq)\n",
      "/home/fragdata/.local/lib/python3.10/site-packages/statsmodels/tsa/base/tsa_model.py:471: ValueWarning: A date index has been provided, but it has no associated frequency information and so will be ignored when e.g. forecasting.\n",
      "  self._init_dates(dates, freq)\n",
      "/home/fragdata/.local/lib/python3.10/site-packages/statsmodels/tsa/statespace/sarimax.py:978: UserWarning: Non-invertible starting MA parameters found. Using zeros as starting parameters.\n",
      "  warn('Non-invertible starting MA parameters found.'\n",
      "/home/fragdata/.local/lib/python3.10/site-packages/statsmodels/tsa/statespace/sarimax.py:1009: UserWarning: Non-invertible starting seasonal moving average Using zeros as starting parameters.\n",
      "  warn('Non-invertible starting seasonal moving average'\n"
     ]
    },
    {
     "name": "stdout",
     "output_type": "stream",
     "text": [
      "RUNNING THE L-BFGS-B CODE\n",
      "\n",
      "           * * *\n",
      "\n",
      "Machine precision = 2.220D-16\n",
      " N =            9     M =           10\n",
      " This problem is unconstrained.\n",
      "\n",
      "At X0         0 variables are exactly at the bounds\n",
      "\n",
      "At iterate    0    f= -2.42553D-01    |proj g|=  2.93136D+01\n",
      "\n",
      "At iterate    5    f= -8.26556D-01    |proj g|=  1.00715D+00\n",
      "\n",
      "At iterate   10    f= -1.91408D+00    |proj g|=  4.51443D+00\n",
      "\n",
      "At iterate   15    f= -2.07974D+00    |proj g|=  2.67695D-01\n",
      "\n",
      "At iterate   20    f= -2.09863D+00    |proj g|=  1.07942D+00\n",
      "\n",
      "At iterate   25    f= -2.14198D+00    |proj g|=  5.48041D-01\n",
      "\n",
      "At iterate   30    f= -2.17119D+00    |proj g|=  4.98751D-01\n",
      "\n",
      " Bad direction in the line search;\n",
      "   refresh the lbfgs memory and restart the iteration.\n",
      "\n",
      "At iterate   35    f= -2.17939D+00    |proj g|=  3.74882D-02\n",
      "\n",
      "At iterate   40    f= -2.18080D+00    |proj g|=  1.21618D-01\n",
      "\n",
      "At iterate   45    f= -2.18086D+00    |proj g|=  1.55249D-01\n",
      "\n",
      "At iterate   50    f= -2.18088D+00    |proj g|=  1.48953D-02\n",
      "\n",
      "           * * *\n",
      "\n",
      "Tit   = total number of iterations\n",
      "Tnf   = total number of function evaluations\n",
      "Tnint = total number of segments explored during Cauchy searches\n",
      "Skip  = number of BFGS updates skipped\n",
      "Nact  = number of active bounds at final generalized Cauchy point\n",
      "Projg = norm of the final projected gradient\n",
      "F     = final function value\n",
      "\n",
      "           * * *\n",
      "\n",
      "   N    Tit     Tnf  Tnint  Skip  Nact     Projg        F\n",
      "    9     50     91      2     0     0   1.490D-02  -2.181D+00\n",
      "  F =  -2.1808817680187396     \n",
      "\n",
      "STOP: TOTAL NO. of ITERATIONS REACHED LIMIT                 \n"
     ]
    },
    {
     "name": "stderr",
     "output_type": "stream",
     "text": [
      "/home/fragdata/.local/lib/python3.10/site-packages/statsmodels/base/model.py:604: ConvergenceWarning: Maximum Likelihood optimization failed to converge. Check mle_retvals\n",
      "  warnings.warn(\"Maximum Likelihood optimization failed to \"\n",
      "/tmp/ipykernel_4757/3055876277.py:8: SettingWithCopyWarning: \n",
      "A value is trying to be set on a copy of a slice from a DataFrame.\n",
      "Try using .loc[row_indexer,col_indexer] = value instead\n",
      "\n",
      "See the caveats in the documentation: https://pandas.pydata.org/pandas-docs/stable/user_guide/indexing.html#returning-a-view-versus-a-copy\n",
      "  df_lille['forecast']=results.predict(start=0,end=5000,dynamic=True)\n"
     ]
    },
    {
     "data": {
      "image/png": "[encoded data removed]",
      "text/plain": [
       "<Figure size 432x288 with 1 Axes>"
      ]
     },
     "metadata": {
      "needs_background": "light"
     },
     "output_type": "display_data"
    },
    {
     "name": "stderr",
     "output_type": "stream",
     "text": [
      "/home/fragdata/.local/lib/python3.10/site-packages/statsmodels/tsa/base/tsa_model.py:471: ValueWarning: A date index has been provided, but it has no associated frequency information and so will be ignored when e.g. forecasting.\n",
      "  self._init_dates(dates, freq)\n",
      "/home/fragdata/.local/lib/python3.10/site-packages/statsmodels/tsa/base/tsa_model.py:471: ValueWarning: A date index has been provided, but it has no associated frequency information and so will be ignored when e.g. forecasting.\n",
      "  self._init_dates(dates, freq)\n"
     ]
    },
    {
     "name": "stdout",
     "output_type": "stream",
     "text": [
      "RUNNING THE L-BFGS-B CODE\n",
      "\n",
      "           * * *\n",
      "\n",
      "Machine precision = 2.220D-16\n",
      " N =            1     M =           10\n",
      " This problem is unconstrained.\n",
      "\n",
      "At X0         0 variables are exactly at the bounds\n",
      "\n",
      "At iterate    0    f=  4.87687D-01    |proj g|=  1.42479D+00\n",
      "\n",
      "At iterate    5    f=  3.53148D-01    |proj g|=  3.96085D-06\n",
      "\n",
      "           * * *\n",
      "\n",
      "Tit   = total number of iterations\n",
      "Tnf   = total number of function evaluations\n",
      "Tnint = total number of segments explored during Cauchy searches\n",
      "Skip  = number of BFGS updates skipped\n",
      "Nact  = number of active bounds at final generalized Cauchy point\n",
      "Projg = norm of the final projected gradient\n",
      "F     = final function value\n",
      "\n",
      "           * * *\n",
      "\n",
      "   N    Tit     Tnf  Tnint  Skip  Nact     Projg        F\n",
      "    1      5      9      1     0     0   3.961D-06   3.531D-01\n",
      "  F =  0.35314815956474349     \n",
      "\n",
      "CONVERGENCE: NORM_OF_PROJECTED_GRADIENT_<=_PGTOL            \n"
     ]
    },
    {
     "name": "stderr",
     "output_type": "stream",
     "text": [
      "/tmp/ipykernel_4757/3055876277.py:8: SettingWithCopyWarning: \n",
      "A value is trying to be set on a copy of a slice from a DataFrame.\n",
      "Try using .loc[row_indexer,col_indexer] = value instead\n",
      "\n",
      "See the caveats in the documentation: https://pandas.pydata.org/pandas-docs/stable/user_guide/indexing.html#returning-a-view-versus-a-copy\n",
      "  df_lille['forecast']=results.predict(start=0,end=5000,dynamic=True)\n"
     ]
    },
    {
     "data": {
      "image/png": "[encoded data removed]",
      "text/plain": [
       "<Figure size 432x288 with 1 Axes>"
      ]
     },
     "metadata": {
      "needs_background": "light"
     },
     "output_type": "display_data"
    },
    {
     "name": "stderr",
     "output_type": "stream",
     "text": [
      "/home/fragdata/.local/lib/python3.10/site-packages/statsmodels/tsa/base/tsa_model.py:471: ValueWarning: A date index has been provided, but it has no associated frequency information and so will be ignored when e.g. forecasting.\n",
      "  self._init_dates(dates, freq)\n",
      "/home/fragdata/.local/lib/python3.10/site-packages/statsmodels/tsa/base/tsa_model.py:471: ValueWarning: A date index has been provided, but it has no associated frequency information and so will be ignored when e.g. forecasting.\n",
      "  self._init_dates(dates, freq)\n",
      "/home/fragdata/.local/lib/python3.10/site-packages/statsmodels/tsa/statespace/sarimax.py:978: UserWarning: Non-invertible starting MA parameters found. Using zeros as starting parameters.\n",
      "  warn('Non-invertible starting MA parameters found.'\n",
      "/home/fragdata/.local/lib/python3.10/site-packages/statsmodels/tsa/statespace/sarimax.py:1009: UserWarning: Non-invertible starting seasonal moving average Using zeros as starting parameters.\n",
      "  warn('Non-invertible starting seasonal moving average'\n"
     ]
    },
    {
     "name": "stdout",
     "output_type": "stream",
     "text": [
      "RUNNING THE L-BFGS-B CODE\n",
      "\n",
      "           * * *\n",
      "\n",
      "Machine precision = 2.220D-16\n",
      " N =            3     M =           10\n",
      " This problem is unconstrained.\n",
      "\n",
      "At X0         0 variables are exactly at the bounds\n",
      "\n",
      "At iterate    0    f=  3.55702D-01    |proj g|=  9.27721D-01\n",
      "\n",
      "At iterate    5    f= -5.37591D-01    |proj g|=  2.10782D-01\n",
      "\n",
      "At iterate   10    f= -7.91589D-01    |proj g|=  4.16061D-01\n",
      "\n",
      "At iterate   15    f= -8.26575D-01    |proj g|=  4.87741D-02\n",
      "\n",
      "At iterate   20    f= -8.29914D-01    |proj g|=  4.64390D-02\n",
      "\n",
      "           * * *\n",
      "\n",
      "Tit   = total number of iterations\n",
      "Tnf   = total number of function evaluations\n",
      "Tnint = total number of segments explored during Cauchy searches\n",
      "Skip  = number of BFGS updates skipped\n",
      "Nact  = number of active bounds at final generalized Cauchy point\n",
      "Projg = norm of the final projected gradient\n",
      "F     = final function value\n",
      "\n",
      "           * * *\n",
      "\n",
      "   N    Tit     Tnf  Tnint  Skip  Nact     Projg        F\n",
      "    3     23     55      1     0     0   1.129D-01  -8.302D-01\n",
      "  F = -0.83024522142704671     \n",
      "\n",
      "CONVERGENCE: REL_REDUCTION_OF_F_<=_FACTR*EPSMCH             \n",
      "\n",
      " Warning:  more than 10 function and gradient\n",
      "   evaluations in the last line search.  Termination\n",
      "   may possibly be caused by a bad search direction.\n"
     ]
    },
    {
     "name": "stderr",
     "output_type": "stream",
     "text": [
      "/tmp/ipykernel_4757/3055876277.py:8: SettingWithCopyWarning: \n",
      "A value is trying to be set on a copy of a slice from a DataFrame.\n",
      "Try using .loc[row_indexer,col_indexer] = value instead\n",
      "\n",
      "See the caveats in the documentation: https://pandas.pydata.org/pandas-docs/stable/user_guide/indexing.html#returning-a-view-versus-a-copy\n",
      "  df_lille['forecast']=results.predict(start=0,end=5000,dynamic=True)\n"
     ]
    },
    {
     "data": {
      "image/png": "[encoded data removed]",
      "text/plain": [
       "<Figure size 432x288 with 1 Axes>"
      ]
     },
     "metadata": {
      "needs_background": "light"
     },
     "output_type": "display_data"
    },
    {
     "name": "stderr",
     "output_type": "stream",
     "text": [
      "/home/fragdata/.local/lib/python3.10/site-packages/statsmodels/tsa/base/tsa_model.py:471: ValueWarning: A date index has been provided, but it has no associated frequency information and so will be ignored when e.g. forecasting.\n",
      "  self._init_dates(dates, freq)\n",
      "/home/fragdata/.local/lib/python3.10/site-packages/statsmodels/tsa/base/tsa_model.py:471: ValueWarning: A date index has been provided, but it has no associated frequency information and so will be ignored when e.g. forecasting.\n",
      "  self._init_dates(dates, freq)\n"
     ]
    },
    {
     "name": "stdout",
     "output_type": "stream",
     "text": [
      "RUNNING THE L-BFGS-B CODE\n",
      "\n",
      "           * * *\n",
      "\n",
      "Machine precision = 2.220D-16\n",
      " N =            5     M =           10\n",
      " This problem is unconstrained.\n",
      "\n",
      "At X0         0 variables are exactly at the bounds\n",
      "\n",
      "At iterate    0    f= -3.67649D-01    |proj g|=  4.61573D+00\n",
      "\n",
      "At iterate    5    f= -1.17154D+00    |proj g|=  2.98738D-01\n",
      "\n",
      "At iterate   10    f= -1.29772D+00    |proj g|=  5.77724D+00\n",
      "\n",
      "At iterate   15    f= -1.38805D+00    |proj g|=  9.44498D-02\n",
      "\n",
      "At iterate   20    f= -1.47987D+00    |proj g|=  2.94812D+00\n",
      "  ys=-1.284E+06  -gs= 9.909E-01 BFGS update SKIPPED\n",
      "\n",
      " Bad direction in the line search;\n",
      "   refresh the lbfgs memory and restart the iteration.\n",
      "\n",
      "           * * *\n",
      "\n",
      "Tit   = total number of iterations\n",
      "Tnf   = total number of function evaluations\n",
      "Tnint = total number of segments explored during Cauchy searches\n",
      "Skip  = number of BFGS updates skipped\n",
      "Nact  = number of active bounds at final generalized Cauchy point\n",
      "Projg = norm of the final projected gradient\n",
      "F     = final function value\n",
      "\n",
      "           * * *\n",
      "\n",
      "   N    Tit     Tnf  Tnint  Skip  Nact     Projg        F\n",
      "    5     24     77      2     1     0   1.911D+04  -1.732D+00\n",
      "  F =  -1.7319381964944967     \n",
      "\n",
      "ABNORMAL_TERMINATION_IN_LNSRCH                              \n",
      "\n",
      " Line search cannot locate an adequate point after 20 function\n",
      "  and gradient evaluations.  Previous x, f and g restored.\n",
      " Possible causes: 1 error in function or gradient evaluation;\n",
      "                  2 rounding error dominate computation.\n"
     ]
    },
    {
     "name": "stderr",
     "output_type": "stream",
     "text": [
      "/home/fragdata/.local/lib/python3.10/site-packages/statsmodels/base/model.py:604: ConvergenceWarning: Maximum Likelihood optimization failed to converge. Check mle_retvals\n",
      "  warnings.warn(\"Maximum Likelihood optimization failed to \"\n",
      "/tmp/ipykernel_4757/3055876277.py:8: SettingWithCopyWarning: \n",
      "A value is trying to be set on a copy of a slice from a DataFrame.\n",
      "Try using .loc[row_indexer,col_indexer] = value instead\n",
      "\n",
      "See the caveats in the documentation: https://pandas.pydata.org/pandas-docs/stable/user_guide/indexing.html#returning-a-view-versus-a-copy\n",
      "  df_lille['forecast']=results.predict(start=0,end=5000,dynamic=True)\n"
     ]
    },
    {
     "data": {
      "image/png": "[encoded data removed]",
      "text/plain": [
       "<Figure size 432x288 with 1 Axes>"
      ]
     },
     "metadata": {
      "needs_background": "light"
     },
     "output_type": "display_data"
    },
    {
     "name": "stderr",
     "output_type": "stream",
     "text": [
      "/home/fragdata/.local/lib/python3.10/site-packages/statsmodels/tsa/base/tsa_model.py:471: ValueWarning: A date index has been provided, but it has no associated frequency information and so will be ignored when e.g. forecasting.\n",
      "  self._init_dates(dates, freq)\n",
      "/home/fragdata/.local/lib/python3.10/site-packages/statsmodels/tsa/base/tsa_model.py:471: ValueWarning: A date index has been provided, but it has no associated frequency information and so will be ignored when e.g. forecasting.\n",
      "  self._init_dates(dates, freq)\n",
      "/home/fragdata/.local/lib/python3.10/site-packages/statsmodels/tsa/statespace/sarimax.py:978: UserWarning: Non-invertible starting MA parameters found. Using zeros as starting parameters.\n",
      "  warn('Non-invertible starting MA parameters found.'\n",
      "/home/fragdata/.local/lib/python3.10/site-packages/statsmodels/tsa/statespace/sarimax.py:1009: UserWarning: Non-invertible starting seasonal moving average Using zeros as starting parameters.\n",
      "  warn('Non-invertible starting seasonal moving average'\n"
     ]
    },
    {
     "name": "stdout",
     "output_type": "stream",
     "text": [
      "RUNNING THE L-BFGS-B CODE\n",
      "\n",
      "           * * *\n",
      "\n",
      "Machine precision = 2.220D-16\n",
      " N =            7     M =           10\n",
      " This problem is unconstrained.\n",
      "\n",
      "At X0         0 variables are exactly at the bounds\n",
      "\n",
      "At iterate    0    f=  6.17663D-01    |proj g|=  8.38366D+00\n",
      "\n",
      "At iterate    5    f= -4.43832D-01    |proj g|=  5.75903D+00\n",
      "\n",
      "At iterate   10    f= -7.97584D-01    |proj g|=  4.90245D-01\n",
      "\n",
      "At iterate   15    f= -1.32990D+00    |proj g|=  9.79361D+00\n",
      "\n",
      "At iterate   20    f= -1.44304D+00    |proj g|=  2.03169D-01\n",
      "\n",
      "At iterate   25    f= -1.59873D+00    |proj g|=  1.66808D+00\n",
      "\n",
      "At iterate   30    f= -1.75513D+00    |proj g|=  1.16360D+01\n",
      "\n",
      "At iterate   35    f= -1.80087D+00    |proj g|=  1.02404D+00\n",
      "\n",
      "At iterate   40    f= -1.81467D+00    |proj g|=  1.09683D+00\n",
      "  ys=-3.130E-02  -gs= 1.066E-02 BFGS update SKIPPED\n",
      "\n",
      " Bad direction in the line search;\n",
      "   refresh the lbfgs memory and restart the iteration.\n",
      "\n",
      "At iterate   45    f= -1.81491D+00    |proj g|=  6.27024D-02\n",
      "\n",
      " Bad direction in the line search;\n",
      "   refresh the lbfgs memory and restart the iteration.\n",
      "\n",
      "           * * *\n",
      "\n",
      "Tit   = total number of iterations\n",
      "Tnf   = total number of function evaluations\n",
      "Tnint = total number of segments explored during Cauchy searches\n",
      "Skip  = number of BFGS updates skipped\n",
      "Nact  = number of active bounds at final generalized Cauchy point\n",
      "Projg = norm of the final projected gradient\n",
      "F     = final function value\n",
      "\n",
      "           * * *\n",
      "\n",
      "   N    Tit     Tnf  Tnint  Skip  Nact     Projg        F\n",
      "    7     48    153      3     1     0   7.964D-02  -1.815D+00\n",
      "  F =  -1.8149127498999698     \n",
      "\n",
      "ABNORMAL_TERMINATION_IN_LNSRCH                              \n",
      "\n",
      " Line search cannot locate an adequate point after 20 function\n",
      "  and gradient evaluations.  Previous x, f and g restored.\n",
      " Possible causes: 1 error in function or gradient evaluation;\n",
      "                  2 rounding error dominate computation.\n"
     ]
    },
    {
     "name": "stderr",
     "output_type": "stream",
     "text": [
      "/home/fragdata/.local/lib/python3.10/site-packages/statsmodels/base/model.py:604: ConvergenceWarning: Maximum Likelihood optimization failed to converge. Check mle_retvals\n",
      "  warnings.warn(\"Maximum Likelihood optimization failed to \"\n",
      "/tmp/ipykernel_4757/3055876277.py:8: SettingWithCopyWarning: \n",
      "A value is trying to be set on a copy of a slice from a DataFrame.\n",
      "Try using .loc[row_indexer,col_indexer] = value instead\n",
      "\n",
      "See the caveats in the documentation: https://pandas.pydata.org/pandas-docs/stable/user_guide/indexing.html#returning-a-view-versus-a-copy\n",
      "  df_lille['forecast']=results.predict(start=0,end=5000,dynamic=True)\n"
     ]
    },
    {
     "data": {
      "image/png": "[encoded data removed]",
      "text/plain": [
       "<Figure size 432x288 with 1 Axes>"
      ]
     },
     "metadata": {
      "needs_background": "light"
     },
     "output_type": "display_data"
    },
    {
     "name": "stderr",
     "output_type": "stream",
     "text": [
      "/home/fragdata/.local/lib/python3.10/site-packages/statsmodels/tsa/base/tsa_model.py:471: ValueWarning: A date index has been provided, but it has no associated frequency information and so will be ignored when e.g. forecasting.\n",
      "  self._init_dates(dates, freq)\n",
      "/home/fragdata/.local/lib/python3.10/site-packages/statsmodels/tsa/base/tsa_model.py:471: ValueWarning: A date index has been provided, but it has no associated frequency information and so will be ignored when e.g. forecasting.\n",
      "  self._init_dates(dates, freq)\n",
      "/home/fragdata/.local/lib/python3.10/site-packages/statsmodels/tsa/statespace/sarimax.py:978: UserWarning: Non-invertible starting MA parameters found. Using zeros as starting parameters.\n",
      "  warn('Non-invertible starting MA parameters found.'\n",
      "/home/fragdata/.local/lib/python3.10/site-packages/statsmodels/tsa/statespace/sarimax.py:1009: UserWarning: Non-invertible starting seasonal moving average Using zeros as starting parameters.\n",
      "  warn('Non-invertible starting seasonal moving average'\n"
     ]
    },
    {
     "name": "stdout",
     "output_type": "stream",
     "text": [
      "RUNNING THE L-BFGS-B CODE\n",
      "\n",
      "           * * *\n",
      "\n",
      "Machine precision = 2.220D-16\n",
      " N =            9     M =           10\n",
      " This problem is unconstrained.\n",
      "\n",
      "At X0         0 variables are exactly at the bounds\n",
      "\n",
      "At iterate    0    f=  5.56068D-01    |proj g|=  6.75418D+00\n",
      "\n",
      "At iterate    5    f= -6.94801D-01    |proj g|=  2.30127D+00\n",
      "\n",
      "At iterate   10    f= -1.30254D+00    |proj g|=  1.65456D+00\n",
      "\n",
      "At iterate   15    f= -1.39829D+00    |proj g|=  1.21508D+00\n",
      "\n",
      "At iterate   20    f= -1.62754D+00    |proj g|=  1.13579D+00\n",
      "\n",
      "At iterate   25    f= -1.66650D+00    |proj g|=  3.17798D-01\n",
      "\n",
      "At iterate   30    f= -1.76466D+00    |proj g|=  2.53385D+00\n",
      "\n",
      "At iterate   35    f= -1.78581D+00    |proj g|=  1.79877D+00\n",
      "  ys=-2.502E-11  -gs= 5.879E-11 BFGS update SKIPPED\n",
      "\n",
      " Bad direction in the line search;\n",
      "   refresh the lbfgs memory and restart the iteration.\n",
      "\n",
      "At iterate   40    f= -1.78661D+00    |proj g|=  4.55980D-01\n",
      "\n",
      "At iterate   45    f= -1.80332D+00    |proj g|=  2.66416D+00\n"
     ]
    },
    {
     "name": "stderr",
     "output_type": "stream",
     "text": [
      "/home/fragdata/.local/lib/python3.10/site-packages/statsmodels/base/model.py:604: ConvergenceWarning: Maximum Likelihood optimization failed to converge. Check mle_retvals\n",
      "  warnings.warn(\"Maximum Likelihood optimization failed to \"\n"
     ]
    },
    {
     "name": "stdout",
     "output_type": "stream",
     "text": [
      "\n",
      "At iterate   50    f= -1.80936D+00    |proj g|=  8.28224D-02\n",
      "\n",
      "           * * *\n",
      "\n",
      "Tit   = total number of iterations\n",
      "Tnf   = total number of function evaluations\n",
      "Tnint = total number of segments explored during Cauchy searches\n",
      "Skip  = number of BFGS updates skipped\n",
      "Nact  = number of active bounds at final generalized Cauchy point\n",
      "Projg = norm of the final projected gradient\n",
      "F     = final function value\n",
      "\n",
      "           * * *\n",
      "\n",
      "   N    Tit     Tnf  Tnint  Skip  Nact     Projg        F\n",
      "    9     50    104      2     1     0   8.282D-02  -1.809D+00\n",
      "  F =  -1.8093583120041807     \n",
      "\n",
      "STOP: TOTAL NO. of ITERATIONS REACHED LIMIT                 \n"
     ]
    }
   ],
   "source": [
    "plt.figure(figsize=(10,8))\n",
    "for p in range(5):\n",
    "    for q in range(5):\n",
    "        for d in range(5):\n",
    "            model=sm.tsa.statespace.SARIMAX(df_lille.valeur,order=(p, q, d),seasonal_order=(p,q,d,12))\n",
    "            results=model.fit()\n",
    "\n",
    "            df_lille['forecast']=results.predict(start=0,end=5000,dynamic=True)\n",
    "            plt.title(f'p={p},q={q},d={d}')\n",
    "            plt.plot(df_lille[['valeur','forecast']])\n",
    "            plt.show()"
   ]
  }
 ],
 "metadata": {
  "kernelspec": {
   "display_name": "Python 3 (ipykernel)",
   "language": "python",
   "name": "python3"
  },
  "language_info": {
   "codemirror_mode": {
    "name": "ipython",
    "version": 3
   },
   "file_extension": ".py",
   "mimetype": "text/x-python",
   "name": "python",
   "nbconvert_exporter": "python",
   "pygments_lexer": "ipython3",
   "version": "3.10.6"
  },
  "vscode": {
   "interpreter": {
    "hash": "916dbcbb3f70747c44a77c7bcd40155683ae19c65e1c03b4aa3499c5328201f1"
   }
  }
 },
 "nbformat": 4,
 "nbformat_minor": 2
}
